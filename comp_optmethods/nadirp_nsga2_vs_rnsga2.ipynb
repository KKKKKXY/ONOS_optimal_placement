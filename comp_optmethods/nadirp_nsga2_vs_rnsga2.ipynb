{
 "cells": [
  {
   "cell_type": "markdown",
   "id": "ceeec0be",
   "metadata": {},
   "source": [
    "## Find the worst points from the worst points got from NSGA2 and RNSGA2."
   ]
  },
  {
   "cell_type": "code",
   "execution_count": 3,
   "id": "74f7fa7d",
   "metadata": {},
   "outputs": [
    {
     "name": "stdout",
     "output_type": "stream",
     "text": [
      "12\n",
      "Nadir Point of NSGA2:  [1.51000000e+02 6.20000000e+01 2.30131720e+03 8.65002149e-01]\n",
      "12\n",
      "Nadir Point of RNSGA2:  [3.30000000e+01 5.00000000e+00 7.51246636e+02 5.62364260e-01]\n"
     ]
    }
   ],
   "source": [
    "import numpy as np\n",
    "\n",
    "WC_NSGA2 = np.array([\n",
    "    [1.81000000e+0, 6.20000000e+01, 2.30131720e+03, 5.57996615e-01], \n",
    "    [1.51000000e+02, 6.10000000e+01, 1.29188018e+03, 8.65002149e-01], \n",
    "    [5.30000000e+01, 1.90000000e+01, 5.14592880e+02, 5.08541981e-01], \n",
    "    [1.12000000e+02, 4.40000000e+01, 1.00597810e+03, 4.37362608e-01], \n",
    "    [ 25.,           8.,         331.12924814,   0.55897608], \n",
    "    [ 23.,           4.,         327.9191185,    0.34637176], \n",
    "    [7.10000000e+01, 3.90000000e+01, 6.32752812e+02, 4.65920322e-01], \n",
    "    [1.35000000e+02, 5.60000000e+01, 2.10923151e+03, 6.49034499e-01], \n",
    "    [5.30000000e+01, 5.00000000e+00, 2.68723482e+02, 1.17181091e-01], \n",
    "    [ 63.,          24.,         160.71147464,   0.56236426], \n",
    "    [1.06000000e+02, 5.30000000e+01, 1.41982421e+03, 8.46232686e-01], \n",
    "    [ 43.,           7.,         263.63602958,   0.44446738], \n",
    "])\n",
    "\n",
    "WC_RNSGA2 = np.array([\n",
    "    [3.30000000e+01, 5.00000000e+00, 7.51246636e+02, 6.64373708e-02], \n",
    "    [3.30000000e+01, 3.00000000e+00, 3.13578243e+02, 1.00537307e-01], \n",
    "    [2.50000000e+01, 4.00000000e+00, 3.54016795e+02, 8.66655880e-02], \n",
    "    [3.10000000e+01, 4.00000000e+00, 3.79596414e+02, 8.19166959e-02], \n",
    "    [ 18.,           4.,         142.89748851,   0.16236902], \n",
    "    [1.90000000e+01, 4.00000000e+00, 2.08751327e+02, 1.56143978e-01], \n",
    "    [2.30000000e+01, 3.00000000e+00, 1.87453223e+02, 7.99174383e-02], \n",
    "    [3.10000000e+01, 4.00000000e+00, 4.31933934e+02, 5.67771415e-02],\n",
    "    [1.20000000e+01, 3.00000000e+00, 2.11593422e+02, 1.17181091e-01], \n",
    "    [ 13.,           4.,         122.71808754,   0.56236426], \n",
    "    [2.40000000e+01, 5.00000000e+00, 3.53490304e+02, 9.56541172e-02], \n",
    "    [ 20.,           4.,         161.88657071,   0.44699751], \n",
    "])\n",
    "\n",
    "\n",
    "print(len(WC_NSGA2))\n",
    "nadir_nsga2 = np.max(WC_NSGA2, axis=0)\n",
    "print(\"Nadir Point of NSGA2: \", nadir_nsga2)\n",
    "print(len(WC_RNSGA2))\n",
    "nadir_rnsga2 = np.max(WC_RNSGA2, axis=0)\n",
    "print(\"Nadir Point of RNSGA2: \", nadir_rnsga2)"
   ]
  },
  {
   "cell_type": "code",
   "execution_count": 4,
   "id": "5beae3f8",
   "metadata": {},
   "outputs": [
    {
     "name": "stdout",
     "output_type": "stream",
     "text": [
      "Nadir Point from NSGA2 and RNSGA2:  [1.51000000e+02 6.20000000e+01 2.30131720e+03 8.65002149e-01]\n"
     ]
    }
   ],
   "source": [
    "import numpy as np\n",
    "\n",
    "WC_NSGA2_and_RNSGA2 = np.array([\n",
    "    [1.51000000e+02, 6.20000000e+01, 2.30131720e+03, 8.65002149e-01],\n",
    "    [3.30000000e+01, 5.00000000e+00, 7.51246636e+02, 5.62364260e-01],\n",
    "])\n",
    "\n",
    "nadir_ = np.max(WC_NSGA2_and_RNSGA2, axis=0)\n",
    "print(\"Nadir Point from NSGA2 and RNSGA2: \", nadir_)"
   ]
  }
 ],
 "metadata": {
  "kernelspec": {
   "display_name": "Python 3 (ipykernel)",
   "language": "python",
   "name": "python3"
  },
  "language_info": {
   "codemirror_mode": {
    "name": "ipython",
    "version": 3
   },
   "file_extension": ".py",
   "mimetype": "text/x-python",
   "name": "python",
   "nbconvert_exporter": "python",
   "pygments_lexer": "ipython3",
   "version": "3.11.4"
  }
 },
 "nbformat": 4,
 "nbformat_minor": 5
}
