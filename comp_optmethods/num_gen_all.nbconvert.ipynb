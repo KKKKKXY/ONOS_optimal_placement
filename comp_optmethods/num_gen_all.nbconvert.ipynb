{
 "cells": [
  {
   "cell_type": "markdown",
   "id": "8743046d-b869-4bf8-9c76-303a2ccfcd02",
   "metadata": {},
   "source": [
    "# Load the pymoo result object saved with pickle.\n",
    "ONOSControllerPlacement needs to be definded to load the result object.\n",
    "So, execute the following cell first."
   ]
  },
  {
   "cell_type": "code",
   "execution_count": 1,
   "id": "ddb40093-adb5-4fcd-8aee-56971de76e56",
   "metadata": {
    "execution": {
     "iopub.execute_input": "2024-03-28T15:25:28.969121Z",
     "iopub.status.busy": "2024-03-28T15:25:28.968810Z",
     "iopub.status.idle": "2024-03-28T15:25:34.635291Z",
     "shell.execute_reply": "2024-03-28T15:25:34.634222Z"
    }
   },
   "outputs": [],
   "source": [
    "#!/usr/bin/env python\n",
    "import numpy as np\n",
    "import networkx as nx\n",
    "import math\n",
    "import pickle\n",
    "from pymoo.core.problem import ElementwiseProblem\n",
    "\n",
    "class ONOSControllerPlacement(ElementwiseProblem):\n",
    "    def __init__(self, num_nodes, distance_matrix, shortest_paths, graph, **kwargs):\n",
    "        super().__init__(n_var=2*num_nodes, \n",
    "                         n_obj=4, \n",
    "                         n_constr=2, \n",
    "                         xl=0, xu=1, \n",
    "                         **kwargs)\n",
    "        self.num_nodes = num_nodes\n",
    "        self.distance_matrix = distance_matrix\n",
    "        self.shortest_paths = shortest_paths\n",
    "        self.graph = graph\n",
    "    \n",
    "    def _evaluate(self, x, out, *args, **kwargs):\n",
    "        controller_nodes = x[:self.num_nodes]   # first half is controller placement\n",
    "        atomix_nodes = x[self.num_nodes:]       # second half is atomix placement\n",
    "\n",
    "\n",
    "        num_controller = np.sum(controller_nodes)\n",
    "        num_atomix = np.sum(atomix_nodes)\n",
    "\n",
    "        # Obj1: Minimize number of contrtoller\n",
    "        f1 = num_controller\n",
    "\n",
    "        # Obj2: Minimize number of atomix\n",
    "        f2 = num_atomix\n",
    "\n",
    "        # Obj3: Minimize average FSP\n",
    "        f3 = calculate_FST(self.num_nodes, \n",
    "                           controller_nodes, \n",
    "                           atomix_nodes, \n",
    "                           self.distance_matrix, \n",
    "                           self.shortest_paths)\n",
    "        \n",
    "        f4 = calculate_BC(self.num_nodes, \n",
    "                           controller_nodes, \n",
    "                           atomix_nodes, \n",
    "                           self.distance_matrix, \n",
    "                        #    self.shortest_paths,\n",
    "                           self.graph)\n",
    "\n",
    "        # Constr1: The number of controller is equal to or greater than 2\n",
    "        g1 = 2 - num_controller\n",
    "\n",
    "        # Constr2: The number of atomix is equal to or greater than 3\n",
    "        g2 = 3 - num_atomix\n",
    "        \n",
    "        # Add the centrality metrix into optimazing objectives:\n",
    "        # 1. Nearest controller for each switch\n",
    "        # 2. The number of controlled switches for each controller should be <= limit_num_switches_controlled (limit_num_switches_controlled=int(math.ceil(num_nodes/num_controller)))\n",
    "        # 3. return value should be the variance for all controller's betweenness centrality\n",
    "        out[\"F\"] = [f1, f2, f3, f4]\n",
    "        out[\"G\"] = [g1, g2]\n",
    "\n",
    "\n",
    "def calculate_FST(num_nodes, controller_nodes, atomix_nodes, distance_matrix, shortest_paths):\n",
    "    num_controller = np.sum(controller_nodes)\n",
    "    num_atomix = np.sum(atomix_nodes)\n",
    "    controller_list = np.nonzero(controller_nodes)[0].tolist()\n",
    "    atomix_list = np.nonzero(atomix_nodes)[0].tolist()\n",
    "\n",
    "    if(num_controller == 0 or num_atomix ==0):\n",
    "        return math.inf\n",
    "\n",
    "    # find the nearest controller for each switch\n",
    "    controller_of = []\n",
    "    for s in range(num_nodes):\n",
    "        delay = math.inf\n",
    "        nearest_controller = None\n",
    "        for c in controller_list:\n",
    "            if distance_matrix[s][c] < delay:\n",
    "                delay = distance_matrix[s][c]\n",
    "                nearest_controller = c\n",
    "        controller_of.append(nearest_controller)    \n",
    "\n",
    "    # calculate average delay to atomix nodes from each controller\n",
    "    average_atomix_delay_from = {}\n",
    "    for c in controller_list:\n",
    "        delay = []\n",
    "        for a in atomix_list:\n",
    "            delay.append(distance_matrix[c][a])\n",
    "        average_atomix_delay_from[c] = np.mean(delay)\n",
    "\n",
    "    # find the nearest atomix for each atomix and calculate average delay\n",
    "    atomix_atomix_delays = []\n",
    "    for a1 in atomix_list:\n",
    "        delay = math.inf\n",
    "        for a2 in atomix_list:\n",
    "            if(a1 == a2):\n",
    "                continue\n",
    "            if distance_matrix[a1][a2] < delay:\n",
    "                delay = distance_matrix[a1][a2]\n",
    "        atomix_atomix_delays.append(delay)\n",
    "    average_atomix_atomix_delay = np.mean(atomix_atomix_delays)\n",
    "    FTSs = []\n",
    "    for source in range(num_nodes):\n",
    "        for distination in range(num_nodes):\n",
    "            if(source == distination):\n",
    "                continue\n",
    "            delay = 0\n",
    "            is_controlled_by_single_controller = True\n",
    "            counted_controllers = []\n",
    "            for s in shortest_paths[source][distination]:\n",
    "                # switch-controller delay\n",
    "                delay += distance_matrix[s][controller_of[s]] * 4\n",
    "\n",
    "                # controller-atomix delay\n",
    "                if(s == source):\n",
    "                    delay += average_atomix_delay_from[controller_of[s]] * 2\n",
    "                elif(s != distination):\n",
    "                    if(controller_of[s] != controller_of[source]):\n",
    "                        is_controlled_by_single_controller = False\n",
    "                        if(not controller_of[s] in counted_controllers):\n",
    "                            counted_controllers.append(controller_of[s])\n",
    "                            delay += average_atomix_delay_from[controller_of[s]]\n",
    "                else:\n",
    "                    if(controller_of[s] == controller_of[source]):\n",
    "                        if(not is_controlled_by_single_controller):\n",
    "                            delay += average_atomix_delay_from[controller_of[s]]\n",
    "                    else:\n",
    "                        delay += average_atomix_delay_from[controller_of[s]] * 2\n",
    "            \n",
    "            # atomix-atomix delay\n",
    "            delay +=  average_atomix_atomix_delay * 2\n",
    "            FTSs.append(delay)\n",
    "\n",
    "    return np.mean(FTSs)\n",
    "\n",
    "\n",
    "\n",
    "def calculate_BC(num_nodes, controller_nodes, atomix_nodes, distance_matrix, graph):\n",
    "    G = nx.Graph()\n",
    "    for node1 in range(len(graph)):\n",
    "        G.add_node(str(node1))\n",
    "        for node2, delay in graph[node1].items():\n",
    "            G.add_edge(str(node1), str(node2), weight=delay)\n",
    "    \n",
    "    # The list of betweenness centrality for all switches\n",
    "    nodes_bc=nx.current_flow_betweenness_centrality(G, normalized=True, weight=None, dtype='float', solver='full')\n",
    "    num_controller = np.sum(controller_nodes)\n",
    "    num_atomix = np.sum(atomix_nodes)\n",
    "    controller_list = np.nonzero(controller_nodes)[0].tolist()\n",
    "\n",
    "    if(num_controller == 0 or num_atomix ==0):\n",
    "        return math.inf\n",
    "\n",
    "    # find the nearest controller for each switch\n",
    "    controller_of = []\n",
    "    limit_num_switches_controlled=int(math.ceil(num_nodes/num_controller)) # balance the number of switches controllers can control \n",
    "    switches_bc_of_controller_ = dict.fromkeys((range(num_nodes)),0) # list of sum of betweenness centrality of switches for each controller\n",
    "    for s in range(num_nodes):\n",
    "        delay = math.inf\n",
    "        nearest_controller = None\n",
    "        controlled_switches=[]\n",
    "        for c in controller_list:\n",
    "            # Conditions: nearest controller (with the lowest delay) && the number of switches for each controller < limit_num_switches_controlled\n",
    "            if distance_matrix[s][c] < delay and controller_of.count(c) < limit_num_switches_controlled:\n",
    "                delay = distance_matrix[s][c]\n",
    "                nearest_controller = c\n",
    "                controlled_switches.append(s)\n",
    "        switches_bc_of_controller_[nearest_controller] += nodes_bc[str(s)]\n",
    "        controller_of.append(nearest_controller)\n",
    "    \n",
    "    # Simplify switches_bc_of_controller_ (only need value for calculating variance)\n",
    "    bc_array = []\n",
    "    for i in switches_bc_of_controller_.values():\n",
    "        bc_array.append(i)\n",
    "\n",
    "    # return variance value can show the degree of balance within all controllers\n",
    "    return np.var(bc_array)"
   ]
  },
  {
   "cell_type": "markdown",
   "id": "743b1254-3e22-4275-a954-8b980459869b",
   "metadata": {},
   "source": [
    "## Load ctaea results"
   ]
  },
  {
   "cell_type": "code",
   "execution_count": 2,
   "id": "f2d49d7e",
   "metadata": {
    "execution": {
     "iopub.execute_input": "2024-03-28T15:25:34.642602Z",
     "iopub.status.busy": "2024-03-28T15:25:34.641324Z",
     "iopub.status.idle": "2024-03-28T15:29:49.448277Z",
     "shell.execute_reply": "2024-03-28T15:29:49.447727Z"
    }
   },
   "outputs": [],
   "source": [
    "with open('res_bc_Cogent_ctaea.pkl','rb') as f_Cogent:\n",
    "    res_Cogent = pickle.load(f_Cogent)\n",
    "with open('res_bc_UsCarrier_ctaea.pkl','rb') as f_UsCarrier:\n",
    "    res_UsCarrier = pickle.load(f_UsCarrier)\n",
    "with open('res_bc_HiberniaGlobal_ctaea.pkl','rb') as f_HiberniaGlobal:\n",
    "    res_HiberniaGlobal = pickle.load(f_HiberniaGlobal)\n",
    "with open('res_bc_Colt_ctaea.pkl','rb') as f_Colt:\n",
    "    res_Colt = pickle.load(f_Colt)\n",
    "with open('res_bc_Funet_ctaea.pkl','rb') as f_Funet:\n",
    "    res_Funet = pickle.load(f_Funet)\n",
    "with open('res_bc_Abvt_ctaea.pkl','rb') as f_Abvt:\n",
    "    res_Abvt = pickle.load(f_Abvt)\n",
    "with open('res_bc_Intellifiber_ctaea.pkl','rb') as f_Intellifiber:\n",
    "    res_Intellifiber = pickle.load(f_Intellifiber)\n",
    "with open('res_bc_TataNld_ctaea.pkl','rb') as f_TataNld:\n",
    "    res_TataNld = pickle.load(f_TataNld)\n",
    "with open('res_bc_Internode_ctaea.pkl','rb') as f_Internode:\n",
    "    res_Internode = pickle.load(f_Internode)\n",
    "with open('res_bc_Missouri_ctaea.pkl','rb') as f_Missouri:\n",
    "    res_Missouri = pickle.load(f_Missouri)\n",
    "with open('res_bc_Ion_ctaea.pkl','rb') as f_Ion:\n",
    "    res_Ion = pickle.load(f_Ion)\n",
    "with open('res_bc_Palmetto_ctaea.pkl','rb') as f_Palmetto:\n",
    "    res_Palmetto = pickle.load(f_Palmetto)"
   ]
  },
  {
   "cell_type": "code",
   "execution_count": 3,
   "id": "4aacec04",
   "metadata": {
    "execution": {
     "iopub.execute_input": "2024-03-28T15:29:49.452223Z",
     "iopub.status.busy": "2024-03-28T15:29:49.451229Z",
     "iopub.status.idle": "2024-03-28T15:29:49.458876Z",
     "shell.execute_reply": "2024-03-28T15:29:49.458483Z"
    }
   },
   "outputs": [
    {
     "name": "stdout",
     "output_type": "stream",
     "text": [
      "The amount of generations (Cogent):  1001\n",
      "The amount of generations (UsCarrier):  1001\n",
      "The amount of generations (HiberniaGlobal):  1001\n",
      "The amount of generations (Colt):  1001\n",
      "The amount of generations (Funet):  1001\n",
      "The amount of generations (Abvt):  1001\n",
      "The amount of generations (Intellifiber):  1001\n",
      "The amount of generations (TataNld):  1001\n",
      "The amount of generations (Internode):  1001\n",
      "The amount of generations (Missouri):  1001\n",
      "The amount of generations (Ion):  1001\n",
      "The amount of generations (Palmetto):  1001\n"
     ]
    }
   ],
   "source": [
    "num_gen_Cogent = res_Cogent.algorithm.n_gen\n",
    "num_gen_UsCarrier = res_UsCarrier.algorithm.n_gen\n",
    "num_gen_HiberniaGlobal = res_HiberniaGlobal.algorithm.n_gen\n",
    "num_gen_Colt = res_Colt.algorithm.n_gen\n",
    "num_gen_Funet = res_Funet.algorithm.n_gen\n",
    "num_gen_Abvt = res_Abvt.algorithm.n_gen\n",
    "num_gen_Intellifiber = res_Intellifiber.algorithm.n_gen\n",
    "num_gen_TataNld = res_TataNld.algorithm.n_gen\n",
    "num_gen_Internode = res_Internode.algorithm.n_gen\n",
    "num_gen_Missouri = res_Missouri.algorithm.n_gen\n",
    "num_gen_Ion = res_Ion.algorithm.n_gen\n",
    "num_gen_Palmetto = res_Palmetto.algorithm.n_gen\n",
    "\n",
    "print('The amount of generations (Cogent): ', num_gen_Cogent)\n",
    "print('The amount of generations (UsCarrier): ', num_gen_UsCarrier)\n",
    "print('The amount of generations (HiberniaGlobal): ', num_gen_HiberniaGlobal)\n",
    "print('The amount of generations (Colt): ', num_gen_Colt)\n",
    "print('The amount of generations (Funet): ', num_gen_Funet)\n",
    "print('The amount of generations (Abvt): ', num_gen_Abvt)\n",
    "print('The amount of generations (Intellifiber): ', num_gen_Intellifiber)\n",
    "print('The amount of generations (TataNld): ', num_gen_TataNld)\n",
    "print('The amount of generations (Internode): ', num_gen_Internode)\n",
    "print('The amount of generations (Missouri): ', num_gen_Missouri)\n",
    "print('The amount of generations (Ion): ', num_gen_Ion)\n",
    "print('The amount of generations (Palmetto): ', num_gen_Palmetto)"
   ]
  },
  {
   "cell_type": "markdown",
   "id": "50e3482e",
   "metadata": {},
   "source": [
    "## Load dnsga2 results"
   ]
  },
  {
   "cell_type": "code",
   "execution_count": 4,
   "id": "53405394",
   "metadata": {
    "execution": {
     "iopub.execute_input": "2024-03-28T15:29:49.461917Z",
     "iopub.status.busy": "2024-03-28T15:29:49.461126Z",
     "iopub.status.idle": "2024-03-28T15:34:30.025672Z",
     "shell.execute_reply": "2024-03-28T15:34:30.025170Z"
    }
   },
   "outputs": [],
   "source": [
    "with open('res_bc_Cogent_dnsga2.pkl','rb') as f_Cogent:\n",
    "    res_Cogent = pickle.load(f_Cogent)\n",
    "with open('res_bc_UsCarrier_dnsga2.pkl','rb') as f_UsCarrier:\n",
    "    res_UsCarrier = pickle.load(f_UsCarrier)\n",
    "with open('res_bc_HiberniaGlobal_dnsga2.pkl','rb') as f_HiberniaGlobal:\n",
    "    res_HiberniaGlobal = pickle.load(f_HiberniaGlobal)\n",
    "with open('res_bc_Colt_dnsga2.pkl','rb') as f_Colt:\n",
    "    res_Colt = pickle.load(f_Colt)\n",
    "with open('res_bc_Funet_dnsga2.pkl','rb') as f_Funet:\n",
    "    res_Funet = pickle.load(f_Funet)\n",
    "with open('res_bc_Abvt_dnsga2.pkl','rb') as f_Abvt:\n",
    "    res_Abvt = pickle.load(f_Abvt)\n",
    "with open('res_bc_Intellifiber_dnsga2.pkl','rb') as f_Intellifiber:\n",
    "    res_Intellifiber = pickle.load(f_Intellifiber)\n",
    "with open('res_bc_TataNld_dnsga2.pkl','rb') as f_TataNld:\n",
    "    res_TataNld = pickle.load(f_TataNld)\n",
    "with open('res_bc_Internode_dnsga2.pkl','rb') as f_Internode:\n",
    "    res_Internode = pickle.load(f_Internode)\n",
    "with open('res_bc_Missouri_dnsga2.pkl','rb') as f_Missouri:\n",
    "    res_Missouri = pickle.load(f_Missouri)\n",
    "with open('res_bc_Ion_dnsga2.pkl','rb') as f_Ion:\n",
    "    res_Ion = pickle.load(f_Ion)\n",
    "with open('res_bc_Palmetto_dnsga2.pkl','rb') as f_Palmetto:\n",
    "    res_Palmetto = pickle.load(f_Palmetto)"
   ]
  },
  {
   "cell_type": "code",
   "execution_count": 5,
   "id": "470e7e39",
   "metadata": {
    "execution": {
     "iopub.execute_input": "2024-03-28T15:34:30.035722Z",
     "iopub.status.busy": "2024-03-28T15:34:30.034862Z",
     "iopub.status.idle": "2024-03-28T15:34:30.042075Z",
     "shell.execute_reply": "2024-03-28T15:34:30.041693Z"
    }
   },
   "outputs": [
    {
     "name": "stdout",
     "output_type": "stream",
     "text": [
      "The amount of generations (Cogent):  1001\n",
      "The amount of generations (UsCarrier):  1001\n",
      "The amount of generations (HiberniaGlobal):  1001\n",
      "The amount of generations (Colt):  1001\n",
      "The amount of generations (Funet):  1001\n",
      "The amount of generations (Abvt):  1001\n",
      "The amount of generations (Intellifiber):  1001\n",
      "The amount of generations (TataNld):  1001\n",
      "The amount of generations (Internode):  1001\n",
      "The amount of generations (Missouri):  1001\n",
      "The amount of generations (Ion):  1001\n",
      "The amount of generations (Palmetto):  1001\n"
     ]
    }
   ],
   "source": [
    "num_gen_Cogent = res_Cogent.algorithm.n_gen\n",
    "num_gen_UsCarrier = res_UsCarrier.algorithm.n_gen\n",
    "num_gen_HiberniaGlobal = res_HiberniaGlobal.algorithm.n_gen\n",
    "num_gen_Colt = res_Colt.algorithm.n_gen\n",
    "num_gen_Funet = res_Funet.algorithm.n_gen\n",
    "num_gen_Abvt = res_Abvt.algorithm.n_gen\n",
    "num_gen_Intellifiber = res_Intellifiber.algorithm.n_gen\n",
    "num_gen_TataNld = res_TataNld.algorithm.n_gen\n",
    "num_gen_Internode = res_Internode.algorithm.n_gen\n",
    "num_gen_Missouri = res_Missouri.algorithm.n_gen\n",
    "num_gen_Ion = res_Ion.algorithm.n_gen\n",
    "num_gen_Palmetto = res_Palmetto.algorithm.n_gen\n",
    "\n",
    "print('The amount of generations (Cogent): ', num_gen_Cogent)\n",
    "print('The amount of generations (UsCarrier): ', num_gen_UsCarrier)\n",
    "print('The amount of generations (HiberniaGlobal): ', num_gen_HiberniaGlobal)\n",
    "print('The amount of generations (Colt): ', num_gen_Colt)\n",
    "print('The amount of generations (Funet): ', num_gen_Funet)\n",
    "print('The amount of generations (Abvt): ', num_gen_Abvt)\n",
    "print('The amount of generations (Intellifiber): ', num_gen_Intellifiber)\n",
    "print('The amount of generations (TataNld): ', num_gen_TataNld)\n",
    "print('The amount of generations (Internode): ', num_gen_Internode)\n",
    "print('The amount of generations (Missouri): ', num_gen_Missouri)\n",
    "print('The amount of generations (Ion): ', num_gen_Ion)\n",
    "print('The amount of generations (Palmetto): ', num_gen_Palmetto)"
   ]
  },
  {
   "cell_type": "markdown",
   "id": "fa745079",
   "metadata": {},
   "source": [
    "## Load kgbdmoea results"
   ]
  },
  {
   "cell_type": "code",
   "execution_count": 6,
   "id": "77f11532",
   "metadata": {
    "execution": {
     "iopub.execute_input": "2024-03-28T15:34:30.045063Z",
     "iopub.status.busy": "2024-03-28T15:34:30.044265Z",
     "iopub.status.idle": "2024-03-28T15:40:06.422307Z",
     "shell.execute_reply": "2024-03-28T15:40:06.421786Z"
    }
   },
   "outputs": [],
   "source": [
    "with open('res_bc_Cogent_kgbdmoea.pkl','rb') as f_Cogent:\n",
    "    res_Cogent = pickle.load(f_Cogent)\n",
    "with open('res_bc_UsCarrier_kgbdmoea.pkl','rb') as f_UsCarrier:\n",
    "    res_UsCarrier = pickle.load(f_UsCarrier)\n",
    "with open('res_bc_HiberniaGlobal_kgbdmoea.pkl','rb') as f_HiberniaGlobal:\n",
    "    res_HiberniaGlobal = pickle.load(f_HiberniaGlobal)\n",
    "with open('res_bc_Colt_kgbdmoea.pkl','rb') as f_Colt:\n",
    "    res_Colt = pickle.load(f_Colt)\n",
    "with open('res_bc_Funet_kgbdmoea.pkl','rb') as f_Funet:\n",
    "    res_Funet = pickle.load(f_Funet)\n",
    "with open('res_bc_Abvt_kgbdmoea.pkl','rb') as f_Abvt:\n",
    "    res_Abvt = pickle.load(f_Abvt)\n",
    "with open('res_bc_Intellifiber_kgbdmoea.pkl','rb') as f_Intellifiber:\n",
    "    res_Intellifiber = pickle.load(f_Intellifiber)\n",
    "with open('res_bc_TataNld_kgbdmoea.pkl','rb') as f_TataNld:\n",
    "    res_TataNld = pickle.load(f_TataNld)\n",
    "with open('res_bc_Internode_kgbdmoea.pkl','rb') as f_Internode:\n",
    "    res_Internode = pickle.load(f_Internode)\n",
    "with open('res_bc_Missouri_kgbdmoea.pkl','rb') as f_Missouri:\n",
    "    res_Missouri = pickle.load(f_Missouri)\n",
    "with open('res_bc_Ion_kgbdmoea.pkl','rb') as f_Ion:\n",
    "    res_Ion = pickle.load(f_Ion)\n",
    "with open('res_bc_Palmetto_kgbdmoea.pkl','rb') as f_Palmetto:\n",
    "    res_Palmetto = pickle.load(f_Palmetto)"
   ]
  },
  {
   "cell_type": "code",
   "execution_count": 7,
   "id": "877ddf23",
   "metadata": {
    "execution": {
     "iopub.execute_input": "2024-03-28T15:40:06.429927Z",
     "iopub.status.busy": "2024-03-28T15:40:06.428937Z",
     "iopub.status.idle": "2024-03-28T15:40:06.436320Z",
     "shell.execute_reply": "2024-03-28T15:40:06.435938Z"
    }
   },
   "outputs": [
    {
     "name": "stdout",
     "output_type": "stream",
     "text": [
      "The amount of generations (Cogent):  1001\n",
      "The amount of generations (UsCarrier):  1001\n",
      "The amount of generations (HiberniaGlobal):  1001\n",
      "The amount of generations (Colt):  1001\n",
      "The amount of generations (Funet):  1001\n",
      "The amount of generations (Abvt):  1001\n",
      "The amount of generations (Intellifiber):  1001\n",
      "The amount of generations (TataNld):  1001\n",
      "The amount of generations (Internode):  1001\n",
      "The amount of generations (Missouri):  1001\n",
      "The amount of generations (Ion):  1001\n",
      "The amount of generations (Palmetto):  1001\n"
     ]
    }
   ],
   "source": [
    "num_gen_Cogent = res_Cogent.algorithm.n_gen\n",
    "num_gen_UsCarrier = res_UsCarrier.algorithm.n_gen\n",
    "num_gen_HiberniaGlobal = res_HiberniaGlobal.algorithm.n_gen\n",
    "num_gen_Colt = res_Colt.algorithm.n_gen\n",
    "num_gen_Funet = res_Funet.algorithm.n_gen\n",
    "num_gen_Abvt = res_Abvt.algorithm.n_gen\n",
    "num_gen_Intellifiber = res_Intellifiber.algorithm.n_gen\n",
    "num_gen_TataNld = res_TataNld.algorithm.n_gen\n",
    "num_gen_Internode = res_Internode.algorithm.n_gen\n",
    "num_gen_Missouri = res_Missouri.algorithm.n_gen\n",
    "num_gen_Ion = res_Ion.algorithm.n_gen\n",
    "num_gen_Palmetto = res_Palmetto.algorithm.n_gen\n",
    "\n",
    "print('The amount of generations (Cogent): ', num_gen_Cogent)\n",
    "print('The amount of generations (UsCarrier): ', num_gen_UsCarrier)\n",
    "print('The amount of generations (HiberniaGlobal): ', num_gen_HiberniaGlobal)\n",
    "print('The amount of generations (Colt): ', num_gen_Colt)\n",
    "print('The amount of generations (Funet): ', num_gen_Funet)\n",
    "print('The amount of generations (Abvt): ', num_gen_Abvt)\n",
    "print('The amount of generations (Intellifiber): ', num_gen_Intellifiber)\n",
    "print('The amount of generations (TataNld): ', num_gen_TataNld)\n",
    "print('The amount of generations (Internode): ', num_gen_Internode)\n",
    "print('The amount of generations (Missouri): ', num_gen_Missouri)\n",
    "print('The amount of generations (Ion): ', num_gen_Ion)\n",
    "print('The amount of generations (Palmetto): ', num_gen_Palmetto)"
   ]
  },
  {
   "cell_type": "markdown",
   "id": "f81ce17e",
   "metadata": {},
   "source": [
    "## Load moead results"
   ]
  },
  {
   "cell_type": "code",
   "execution_count": 8,
   "id": "17136f95",
   "metadata": {
    "execution": {
     "iopub.execute_input": "2024-03-28T15:40:06.439281Z",
     "iopub.status.busy": "2024-03-28T15:40:06.438492Z",
     "iopub.status.idle": "2024-03-28T15:44:26.402765Z",
     "shell.execute_reply": "2024-03-28T15:44:26.402265Z"
    }
   },
   "outputs": [],
   "source": [
    "with open('res_bc_Cogent_moead.pkl','rb') as f_Cogent:\n",
    "    res_Cogent = pickle.load(f_Cogent)\n",
    "with open('res_bc_UsCarrier_moead.pkl','rb') as f_UsCarrier:\n",
    "    res_UsCarrier = pickle.load(f_UsCarrier)\n",
    "with open('res_bc_HiberniaGlobal_moead.pkl','rb') as f_HiberniaGlobal:\n",
    "    res_HiberniaGlobal = pickle.load(f_HiberniaGlobal)\n",
    "with open('res_bc_Colt_moead.pkl','rb') as f_Colt:\n",
    "    res_Colt = pickle.load(f_Colt)\n",
    "with open('res_bc_Funet_moead.pkl','rb') as f_Funet:\n",
    "    res_Funet = pickle.load(f_Funet)\n",
    "with open('res_bc_Abvt_moead.pkl','rb') as f_Abvt:\n",
    "    res_Abvt = pickle.load(f_Abvt)\n",
    "with open('res_bc_Intellifiber_moead.pkl','rb') as f_Intellifiber:\n",
    "    res_Intellifiber = pickle.load(f_Intellifiber)\n",
    "with open('res_bc_TataNld_moead.pkl','rb') as f_TataNld:\n",
    "    res_TataNld = pickle.load(f_TataNld)\n",
    "with open('res_bc_Internode_moead.pkl','rb') as f_Internode:\n",
    "    res_Internode = pickle.load(f_Internode)\n",
    "with open('res_bc_Missouri_moead.pkl','rb') as f_Missouri:\n",
    "    res_Missouri = pickle.load(f_Missouri)\n",
    "with open('res_bc_Ion_moead.pkl','rb') as f_Ion:\n",
    "    res_Ion = pickle.load(f_Ion)\n",
    "with open('res_bc_Palmetto_moead.pkl','rb') as f_Palmetto:\n",
    "    res_Palmetto = pickle.load(f_Palmetto)"
   ]
  },
  {
   "cell_type": "code",
   "execution_count": 9,
   "id": "04fd21f3",
   "metadata": {
    "execution": {
     "iopub.execute_input": "2024-03-28T15:44:26.448760Z",
     "iopub.status.busy": "2024-03-28T15:44:26.447592Z",
     "iopub.status.idle": "2024-03-28T15:44:26.455680Z",
     "shell.execute_reply": "2024-03-28T15:44:26.455270Z"
    }
   },
   "outputs": [
    {
     "name": "stdout",
     "output_type": "stream",
     "text": [
      "The amount of generations (Cogent):  1001\n",
      "The amount of generations (UsCarrier):  1001\n",
      "The amount of generations (HiberniaGlobal):  1001\n",
      "The amount of generations (Colt):  1001\n",
      "The amount of generations (Funet):  1001\n",
      "The amount of generations (Abvt):  1001\n",
      "The amount of generations (Intellifiber):  1001\n",
      "The amount of generations (TataNld):  1001\n",
      "The amount of generations (Internode):  1001\n",
      "The amount of generations (Missouri):  1001\n",
      "The amount of generations (Ion):  1001\n",
      "The amount of generations (Palmetto):  1001\n"
     ]
    }
   ],
   "source": [
    "num_gen_Cogent = res_Cogent.algorithm.n_gen\n",
    "num_gen_UsCarrier = res_UsCarrier.algorithm.n_gen\n",
    "num_gen_HiberniaGlobal = res_HiberniaGlobal.algorithm.n_gen\n",
    "num_gen_Colt = res_Colt.algorithm.n_gen\n",
    "num_gen_Funet = res_Funet.algorithm.n_gen\n",
    "num_gen_Abvt = res_Abvt.algorithm.n_gen\n",
    "num_gen_Intellifiber = res_Intellifiber.algorithm.n_gen\n",
    "num_gen_TataNld = res_TataNld.algorithm.n_gen\n",
    "num_gen_Internode = res_Internode.algorithm.n_gen\n",
    "num_gen_Missouri = res_Missouri.algorithm.n_gen\n",
    "num_gen_Ion = res_Ion.algorithm.n_gen\n",
    "num_gen_Palmetto = res_Palmetto.algorithm.n_gen\n",
    "\n",
    "print('The amount of generations (Cogent): ', num_gen_Cogent)\n",
    "print('The amount of generations (UsCarrier): ', num_gen_UsCarrier)\n",
    "print('The amount of generations (HiberniaGlobal): ', num_gen_HiberniaGlobal)\n",
    "print('The amount of generations (Colt): ', num_gen_Colt)\n",
    "print('The amount of generations (Funet): ', num_gen_Funet)\n",
    "print('The amount of generations (Abvt): ', num_gen_Abvt)\n",
    "print('The amount of generations (Intellifiber): ', num_gen_Intellifiber)\n",
    "print('The amount of generations (TataNld): ', num_gen_TataNld)\n",
    "print('The amount of generations (Internode): ', num_gen_Internode)\n",
    "print('The amount of generations (Missouri): ', num_gen_Missouri)\n",
    "print('The amount of generations (Ion): ', num_gen_Ion)\n",
    "print('The amount of generations (Palmetto): ', num_gen_Palmetto)"
   ]
  },
  {
   "cell_type": "markdown",
   "id": "d7a3b921",
   "metadata": {},
   "source": [
    "## Load agemoea results"
   ]
  },
  {
   "cell_type": "code",
   "execution_count": 10,
   "id": "f3bf8aae",
   "metadata": {
    "execution": {
     "iopub.execute_input": "2024-03-28T15:44:26.458861Z",
     "iopub.status.busy": "2024-03-28T15:44:26.458032Z",
     "iopub.status.idle": "2024-03-28T15:49:44.899432Z",
     "shell.execute_reply": "2024-03-28T15:49:44.898630Z"
    }
   },
   "outputs": [],
   "source": [
    "with open('res_bc_Cogent_agemoea.pkl','rb') as f_Cogent:\n",
    "    res_Cogent = pickle.load(f_Cogent)\n",
    "with open('res_bc_UsCarrier_agemoea.pkl','rb') as f_UsCarrier:\n",
    "    res_UsCarrier = pickle.load(f_UsCarrier)\n",
    "with open('res_bc_HiberniaGlobal_agemoea.pkl','rb') as f_HiberniaGlobal:\n",
    "    res_HiberniaGlobal = pickle.load(f_HiberniaGlobal)\n",
    "with open('res_bc_Colt_agemoea.pkl','rb') as f_Colt:\n",
    "    res_Colt = pickle.load(f_Colt)\n",
    "with open('res_bc_Funet_agemoea.pkl','rb') as f_Funet:\n",
    "    res_Funet = pickle.load(f_Funet)\n",
    "with open('res_bc_Abvt_agemoea.pkl','rb') as f_Abvt:\n",
    "    res_Abvt = pickle.load(f_Abvt)\n",
    "with open('res_bc_Intellifiber_agemoea.pkl','rb') as f_Intellifiber:\n",
    "    res_Intellifiber = pickle.load(f_Intellifiber)\n",
    "with open('res_bc_TataNld_agemoea.pkl','rb') as f_TataNld:\n",
    "    res_TataNld = pickle.load(f_TataNld)\n",
    "with open('res_bc_Internode_agemoea.pkl','rb') as f_Internode:\n",
    "    res_Internode = pickle.load(f_Internode)\n",
    "with open('res_bc_Missouri_agemoea.pkl','rb') as f_Missouri:\n",
    "    res_Missouri = pickle.load(f_Missouri)\n",
    "with open('res_bc_Ion_agemoea.pkl','rb') as f_Ion:\n",
    "    res_Ion = pickle.load(f_Ion)\n",
    "with open('res_bc_Palmetto_agemoea.pkl','rb') as f_Palmetto:\n",
    "    res_Palmetto = pickle.load(f_Palmetto)"
   ]
  },
  {
   "cell_type": "code",
   "execution_count": 11,
   "id": "3c3c0a9a",
   "metadata": {
    "execution": {
     "iopub.execute_input": "2024-03-28T15:49:44.917328Z",
     "iopub.status.busy": "2024-03-28T15:49:44.916489Z",
     "iopub.status.idle": "2024-03-28T15:49:44.923831Z",
     "shell.execute_reply": "2024-03-28T15:49:44.923315Z"
    }
   },
   "outputs": [
    {
     "name": "stdout",
     "output_type": "stream",
     "text": [
      "The amount of generations (Cogent):  1001\n",
      "The amount of generations (UsCarrier):  1001\n",
      "The amount of generations (HiberniaGlobal):  1001\n",
      "The amount of generations (Colt):  1001\n",
      "The amount of generations (Funet):  1001\n",
      "The amount of generations (Abvt):  1001\n",
      "The amount of generations (Intellifiber):  1001\n",
      "The amount of generations (TataNld):  1001\n",
      "The amount of generations (Internode):  1001\n",
      "The amount of generations (Missouri):  1001\n",
      "The amount of generations (Ion):  1001\n",
      "The amount of generations (Palmetto):  1001\n"
     ]
    }
   ],
   "source": [
    "num_gen_Cogent = res_Cogent.algorithm.n_gen\n",
    "num_gen_UsCarrier = res_UsCarrier.algorithm.n_gen\n",
    "num_gen_HiberniaGlobal = res_HiberniaGlobal.algorithm.n_gen\n",
    "num_gen_Colt = res_Colt.algorithm.n_gen\n",
    "num_gen_Funet = res_Funet.algorithm.n_gen\n",
    "num_gen_Abvt = res_Abvt.algorithm.n_gen\n",
    "num_gen_Intellifiber = res_Intellifiber.algorithm.n_gen\n",
    "num_gen_TataNld = res_TataNld.algorithm.n_gen\n",
    "num_gen_Internode = res_Internode.algorithm.n_gen\n",
    "num_gen_Missouri = res_Missouri.algorithm.n_gen\n",
    "num_gen_Ion = res_Ion.algorithm.n_gen\n",
    "num_gen_Palmetto = res_Palmetto.algorithm.n_gen\n",
    "\n",
    "print('The amount of generations (Cogent): ', num_gen_Cogent)\n",
    "print('The amount of generations (UsCarrier): ', num_gen_UsCarrier)\n",
    "print('The amount of generations (HiberniaGlobal): ', num_gen_HiberniaGlobal)\n",
    "print('The amount of generations (Colt): ', num_gen_Colt)\n",
    "print('The amount of generations (Funet): ', num_gen_Funet)\n",
    "print('The amount of generations (Abvt): ', num_gen_Abvt)\n",
    "print('The amount of generations (Intellifiber): ', num_gen_Intellifiber)\n",
    "print('The amount of generations (TataNld): ', num_gen_TataNld)\n",
    "print('The amount of generations (Internode): ', num_gen_Internode)\n",
    "print('The amount of generations (Missouri): ', num_gen_Missouri)\n",
    "print('The amount of generations (Ion): ', num_gen_Ion)\n",
    "print('The amount of generations (Palmetto): ', num_gen_Palmetto)"
   ]
  },
  {
   "cell_type": "markdown",
   "id": "76756443",
   "metadata": {},
   "source": [
    "## Load agemoea2 results"
   ]
  },
  {
   "cell_type": "code",
   "execution_count": 12,
   "id": "7a94e519",
   "metadata": {
    "execution": {
     "iopub.execute_input": "2024-03-28T15:49:44.926651Z",
     "iopub.status.busy": "2024-03-28T15:49:44.925870Z",
     "iopub.status.idle": "2024-03-28T15:55:28.151555Z",
     "shell.execute_reply": "2024-03-28T15:55:28.150854Z"
    }
   },
   "outputs": [],
   "source": [
    "with open('res_bc_Cogent_agemoea2.pkl','rb') as f_Cogent:\n",
    "    res_Cogent = pickle.load(f_Cogent)\n",
    "with open('res_bc_UsCarrier_agemoea2.pkl','rb') as f_UsCarrier:\n",
    "    res_UsCarrier = pickle.load(f_UsCarrier)\n",
    "with open('res_bc_HiberniaGlobal_agemoea2.pkl','rb') as f_HiberniaGlobal:\n",
    "    res_HiberniaGlobal = pickle.load(f_HiberniaGlobal)\n",
    "with open('res_bc_Colt_agemoea2.pkl','rb') as f_Colt:\n",
    "    res_Colt = pickle.load(f_Colt)\n",
    "with open('res_bc_Funet_agemoea2.pkl','rb') as f_Funet:\n",
    "    res_Funet = pickle.load(f_Funet)\n",
    "with open('res_bc_Abvt_agemoea2.pkl','rb') as f_Abvt:\n",
    "    res_Abvt = pickle.load(f_Abvt)\n",
    "with open('res_bc_Intellifiber_agemoea2.pkl','rb') as f_Intellifiber:\n",
    "    res_Intellifiber = pickle.load(f_Intellifiber)\n",
    "with open('res_bc_TataNld_agemoea2.pkl','rb') as f_TataNld:\n",
    "    res_TataNld = pickle.load(f_TataNld)\n",
    "with open('res_bc_Internode_agemoea2.pkl','rb') as f_Internode:\n",
    "    res_Internode = pickle.load(f_Internode)\n",
    "with open('res_bc_Missouri_agemoea2.pkl','rb') as f_Missouri:\n",
    "    res_Missouri = pickle.load(f_Missouri)\n",
    "with open('res_bc_Ion_agemoea2.pkl','rb') as f_Ion:\n",
    "    res_Ion = pickle.load(f_Ion)\n",
    "with open('res_bc_Palmetto_agemoea2.pkl','rb') as f_Palmetto:\n",
    "    res_Palmetto = pickle.load(f_Palmetto)"
   ]
  },
  {
   "cell_type": "code",
   "execution_count": 13,
   "id": "1dedc5c2",
   "metadata": {
    "execution": {
     "iopub.execute_input": "2024-03-28T15:55:28.183258Z",
     "iopub.status.busy": "2024-03-28T15:55:28.182346Z",
     "iopub.status.idle": "2024-03-28T15:55:28.190024Z",
     "shell.execute_reply": "2024-03-28T15:55:28.189634Z"
    }
   },
   "outputs": [
    {
     "name": "stdout",
     "output_type": "stream",
     "text": [
      "The amount of generations (Cogent):  1001\n",
      "The amount of generations (UsCarrier):  1001\n",
      "The amount of generations (HiberniaGlobal):  1001\n",
      "The amount of generations (Colt):  1001\n",
      "The amount of generations (Funet):  1001\n",
      "The amount of generations (Abvt):  1001\n",
      "The amount of generations (Intellifiber):  1001\n",
      "The amount of generations (TataNld):  1001\n",
      "The amount of generations (Internode):  1001\n",
      "The amount of generations (Missouri):  1001\n",
      "The amount of generations (Ion):  1001\n",
      "The amount of generations (Palmetto):  1001\n"
     ]
    }
   ],
   "source": [
    "num_gen_Cogent = res_Cogent.algorithm.n_gen\n",
    "num_gen_UsCarrier = res_UsCarrier.algorithm.n_gen\n",
    "num_gen_HiberniaGlobal = res_HiberniaGlobal.algorithm.n_gen\n",
    "num_gen_Colt = res_Colt.algorithm.n_gen\n",
    "num_gen_Funet = res_Funet.algorithm.n_gen\n",
    "num_gen_Abvt = res_Abvt.algorithm.n_gen\n",
    "num_gen_Intellifiber = res_Intellifiber.algorithm.n_gen\n",
    "num_gen_TataNld = res_TataNld.algorithm.n_gen\n",
    "num_gen_Internode = res_Internode.algorithm.n_gen\n",
    "num_gen_Missouri = res_Missouri.algorithm.n_gen\n",
    "num_gen_Ion = res_Ion.algorithm.n_gen\n",
    "num_gen_Palmetto = res_Palmetto.algorithm.n_gen\n",
    "\n",
    "print('The amount of generations (Cogent): ', num_gen_Cogent)\n",
    "print('The amount of generations (UsCarrier): ', num_gen_UsCarrier)\n",
    "print('The amount of generations (HiberniaGlobal): ', num_gen_HiberniaGlobal)\n",
    "print('The amount of generations (Colt): ', num_gen_Colt)\n",
    "print('The amount of generations (Funet): ', num_gen_Funet)\n",
    "print('The amount of generations (Abvt): ', num_gen_Abvt)\n",
    "print('The amount of generations (Intellifiber): ', num_gen_Intellifiber)\n",
    "print('The amount of generations (TataNld): ', num_gen_TataNld)\n",
    "print('The amount of generations (Internode): ', num_gen_Internode)\n",
    "print('The amount of generations (Missouri): ', num_gen_Missouri)\n",
    "print('The amount of generations (Ion): ', num_gen_Ion)\n",
    "print('The amount of generations (Palmetto): ', num_gen_Palmetto)"
   ]
  },
  {
   "cell_type": "markdown",
   "id": "d99101a9",
   "metadata": {},
   "source": [
    "## Load nsga2 results"
   ]
  },
  {
   "cell_type": "code",
   "execution_count": 14,
   "id": "38f58e87",
   "metadata": {
    "execution": {
     "iopub.execute_input": "2024-03-28T15:55:28.193123Z",
     "iopub.status.busy": "2024-03-28T15:55:28.192315Z",
     "iopub.status.idle": "2024-03-28T16:01:21.420891Z",
     "shell.execute_reply": "2024-03-28T16:01:21.420414Z"
    }
   },
   "outputs": [],
   "source": [
    "with open('res_bc_Cogent_nsga2.pkl','rb') as f_Cogent:\n",
    "    res_Cogent = pickle.load(f_Cogent)\n",
    "with open('res_bc_UsCarrier_nsga2.pkl','rb') as f_UsCarrier:\n",
    "    res_UsCarrier = pickle.load(f_UsCarrier)\n",
    "with open('res_bc_HiberniaGlobal_nsga2.pkl','rb') as f_HiberniaGlobal:\n",
    "    res_HiberniaGlobal = pickle.load(f_HiberniaGlobal)\n",
    "with open('res_bc_Colt_nsga2.pkl','rb') as f_Colt:\n",
    "    res_Colt = pickle.load(f_Colt)\n",
    "with open('res_bc_Funet_nsga2.pkl','rb') as f_Funet:\n",
    "    res_Funet = pickle.load(f_Funet)\n",
    "with open('res_bc_Abvt_nsga2.pkl','rb') as f_Abvt:\n",
    "    res_Abvt = pickle.load(f_Abvt)\n",
    "with open('res_bc_Intellifiber_nsga2.pkl','rb') as f_Intellifiber:\n",
    "    res_Intellifiber = pickle.load(f_Intellifiber)\n",
    "with open('res_bc_TataNld_nsga2.pkl','rb') as f_TataNld:\n",
    "    res_TataNld = pickle.load(f_TataNld)\n",
    "with open('res_bc_Internode_nsga2.pkl','rb') as f_Internode:\n",
    "    res_Internode = pickle.load(f_Internode)\n",
    "with open('res_bc_Missouri_nsga2.pkl','rb') as f_Missouri:\n",
    "    res_Missouri = pickle.load(f_Missouri)\n",
    "with open('res_bc_Ion_nsga2.pkl','rb') as f_Ion:\n",
    "    res_Ion = pickle.load(f_Ion)\n",
    "with open('res_bc_Palmetto_nsga2.pkl','rb') as f_Palmetto:\n",
    "    res_Palmetto = pickle.load(f_Palmetto)"
   ]
  },
  {
   "cell_type": "code",
   "execution_count": 15,
   "id": "27da9b9d",
   "metadata": {
    "execution": {
     "iopub.execute_input": "2024-03-28T16:01:21.452903Z",
     "iopub.status.busy": "2024-03-28T16:01:21.452103Z",
     "iopub.status.idle": "2024-03-28T16:01:21.459105Z",
     "shell.execute_reply": "2024-03-28T16:01:21.458735Z"
    }
   },
   "outputs": [
    {
     "name": "stdout",
     "output_type": "stream",
     "text": [
      "The amount of generations (Cogent):  1001\n",
      "The amount of generations (UsCarrier):  1001\n",
      "The amount of generations (HiberniaGlobal):  1001\n",
      "The amount of generations (Colt):  1001\n",
      "The amount of generations (Funet):  1001\n",
      "The amount of generations (Abvt):  1001\n",
      "The amount of generations (Intellifiber):  1001\n",
      "The amount of generations (TataNld):  1001\n",
      "The amount of generations (Internode):  1001\n",
      "The amount of generations (Missouri):  1001\n",
      "The amount of generations (Ion):  1001\n",
      "The amount of generations (Palmetto):  1001\n"
     ]
    }
   ],
   "source": [
    "num_gen_Cogent = res_Cogent.algorithm.n_gen\n",
    "num_gen_UsCarrier = res_UsCarrier.algorithm.n_gen\n",
    "num_gen_HiberniaGlobal = res_HiberniaGlobal.algorithm.n_gen\n",
    "num_gen_Colt = res_Colt.algorithm.n_gen\n",
    "num_gen_Funet = res_Funet.algorithm.n_gen\n",
    "num_gen_Abvt = res_Abvt.algorithm.n_gen\n",
    "num_gen_Intellifiber = res_Intellifiber.algorithm.n_gen\n",
    "num_gen_TataNld = res_TataNld.algorithm.n_gen\n",
    "num_gen_Internode = res_Internode.algorithm.n_gen\n",
    "num_gen_Missouri = res_Missouri.algorithm.n_gen\n",
    "num_gen_Ion = res_Ion.algorithm.n_gen\n",
    "num_gen_Palmetto = res_Palmetto.algorithm.n_gen\n",
    "\n",
    "print('The amount of generations (Cogent): ', num_gen_Cogent)\n",
    "print('The amount of generations (UsCarrier): ', num_gen_UsCarrier)\n",
    "print('The amount of generations (HiberniaGlobal): ', num_gen_HiberniaGlobal)\n",
    "print('The amount of generations (Colt): ', num_gen_Colt)\n",
    "print('The amount of generations (Funet): ', num_gen_Funet)\n",
    "print('The amount of generations (Abvt): ', num_gen_Abvt)\n",
    "print('The amount of generations (Intellifiber): ', num_gen_Intellifiber)\n",
    "print('The amount of generations (TataNld): ', num_gen_TataNld)\n",
    "print('The amount of generations (Internode): ', num_gen_Internode)\n",
    "print('The amount of generations (Missouri): ', num_gen_Missouri)\n",
    "print('The amount of generations (Ion): ', num_gen_Ion)\n",
    "print('The amount of generations (Palmetto): ', num_gen_Palmetto)"
   ]
  },
  {
   "cell_type": "markdown",
   "id": "301acaad",
   "metadata": {},
   "source": [
    "## Load nsga3 results"
   ]
  },
  {
   "cell_type": "code",
   "execution_count": 16,
   "id": "47cce1c3",
   "metadata": {
    "execution": {
     "iopub.execute_input": "2024-03-28T16:01:21.461999Z",
     "iopub.status.busy": "2024-03-28T16:01:21.461231Z",
     "iopub.status.idle": "2024-03-28T16:06:36.252755Z",
     "shell.execute_reply": "2024-03-28T16:06:36.252199Z"
    }
   },
   "outputs": [],
   "source": [
    "with open('res_bc_Cogent_nsga3.pkl','rb') as f_Cogent:\n",
    "    res_Cogent = pickle.load(f_Cogent)\n",
    "with open('res_bc_UsCarrier_nsga3.pkl','rb') as f_UsCarrier:\n",
    "    res_UsCarrier = pickle.load(f_UsCarrier)\n",
    "with open('res_bc_HiberniaGlobal_nsga3.pkl','rb') as f_HiberniaGlobal:\n",
    "    res_HiberniaGlobal = pickle.load(f_HiberniaGlobal)\n",
    "with open('res_bc_Colt_nsga3.pkl','rb') as f_Colt:\n",
    "    res_Colt = pickle.load(f_Colt)\n",
    "with open('res_bc_Funet_nsga3.pkl','rb') as f_Funet:\n",
    "    res_Funet = pickle.load(f_Funet)\n",
    "with open('res_bc_Abvt_nsga3.pkl','rb') as f_Abvt:\n",
    "    res_Abvt = pickle.load(f_Abvt)\n",
    "with open('res_bc_Intellifiber_nsga3.pkl','rb') as f_Intellifiber:\n",
    "    res_Intellifiber = pickle.load(f_Intellifiber)\n",
    "with open('res_bc_TataNld_nsga3.pkl','rb') as f_TataNld:\n",
    "    res_TataNld = pickle.load(f_TataNld)\n",
    "with open('res_bc_Internode_nsga3.pkl','rb') as f_Internode:\n",
    "    res_Internode = pickle.load(f_Internode)\n",
    "with open('res_bc_Missouri_nsga3.pkl','rb') as f_Missouri:\n",
    "    res_Missouri = pickle.load(f_Missouri)\n",
    "with open('res_bc_Ion_nsga3.pkl','rb') as f_Ion:\n",
    "    res_Ion = pickle.load(f_Ion)\n",
    "with open('res_bc_Palmetto_nsga3.pkl','rb') as f_Palmetto:\n",
    "    res_Palmetto = pickle.load(f_Palmetto)"
   ]
  },
  {
   "cell_type": "code",
   "execution_count": 17,
   "id": "d34bb07b",
   "metadata": {
    "execution": {
     "iopub.execute_input": "2024-03-28T16:06:36.285187Z",
     "iopub.status.busy": "2024-03-28T16:06:36.284320Z",
     "iopub.status.idle": "2024-03-28T16:06:36.291728Z",
     "shell.execute_reply": "2024-03-28T16:06:36.291335Z"
    }
   },
   "outputs": [
    {
     "name": "stdout",
     "output_type": "stream",
     "text": [
      "The amount of generations (Cogent):  1001\n",
      "The amount of generations (UsCarrier):  1001\n",
      "The amount of generations (HiberniaGlobal):  1001\n",
      "The amount of generations (Colt):  1001\n",
      "The amount of generations (Funet):  1001\n",
      "The amount of generations (Abvt):  1001\n",
      "The amount of generations (Intellifiber):  1001\n",
      "The amount of generations (TataNld):  1001\n",
      "The amount of generations (Internode):  1001\n",
      "The amount of generations (Missouri):  1001\n",
      "The amount of generations (Ion):  1001\n",
      "The amount of generations (Palmetto):  1001\n"
     ]
    }
   ],
   "source": [
    "num_gen_Cogent = res_Cogent.algorithm.n_gen\n",
    "num_gen_UsCarrier = res_UsCarrier.algorithm.n_gen\n",
    "num_gen_HiberniaGlobal = res_HiberniaGlobal.algorithm.n_gen\n",
    "num_gen_Colt = res_Colt.algorithm.n_gen\n",
    "num_gen_Funet = res_Funet.algorithm.n_gen\n",
    "num_gen_Abvt = res_Abvt.algorithm.n_gen\n",
    "num_gen_Intellifiber = res_Intellifiber.algorithm.n_gen\n",
    "num_gen_TataNld = res_TataNld.algorithm.n_gen\n",
    "num_gen_Internode = res_Internode.algorithm.n_gen\n",
    "num_gen_Missouri = res_Missouri.algorithm.n_gen\n",
    "num_gen_Ion = res_Ion.algorithm.n_gen\n",
    "num_gen_Palmetto = res_Palmetto.algorithm.n_gen\n",
    "\n",
    "print('The amount of generations (Cogent): ', num_gen_Cogent)\n",
    "print('The amount of generations (UsCarrier): ', num_gen_UsCarrier)\n",
    "print('The amount of generations (HiberniaGlobal): ', num_gen_HiberniaGlobal)\n",
    "print('The amount of generations (Colt): ', num_gen_Colt)\n",
    "print('The amount of generations (Funet): ', num_gen_Funet)\n",
    "print('The amount of generations (Abvt): ', num_gen_Abvt)\n",
    "print('The amount of generations (Intellifiber): ', num_gen_Intellifiber)\n",
    "print('The amount of generations (TataNld): ', num_gen_TataNld)\n",
    "print('The amount of generations (Internode): ', num_gen_Internode)\n",
    "print('The amount of generations (Missouri): ', num_gen_Missouri)\n",
    "print('The amount of generations (Ion): ', num_gen_Ion)\n",
    "print('The amount of generations (Palmetto): ', num_gen_Palmetto)"
   ]
  },
  {
   "cell_type": "markdown",
   "id": "3153bca9",
   "metadata": {},
   "source": [
    "## Load rnsga2 results"
   ]
  },
  {
   "cell_type": "code",
   "execution_count": 18,
   "id": "d8cd181a",
   "metadata": {
    "execution": {
     "iopub.execute_input": "2024-03-28T16:06:36.294701Z",
     "iopub.status.busy": "2024-03-28T16:06:36.293910Z",
     "iopub.status.idle": "2024-03-28T16:12:56.375997Z",
     "shell.execute_reply": "2024-03-28T16:12:56.375454Z"
    }
   },
   "outputs": [],
   "source": [
    "with open('res_bc_Cogent_rnsga2.pkl','rb') as f_Cogent:\n",
    "    res_Cogent = pickle.load(f_Cogent)\n",
    "with open('res_bc_UsCarrier_rnsga2.pkl','rb') as f_UsCarrier:\n",
    "    res_UsCarrier = pickle.load(f_UsCarrier)\n",
    "with open('res_bc_HiberniaGlobal_rnsga2.pkl','rb') as f_HiberniaGlobal:\n",
    "    res_HiberniaGlobal = pickle.load(f_HiberniaGlobal)\n",
    "with open('res_bc_Colt_rnsga2.pkl','rb') as f_Colt:\n",
    "    res_Colt = pickle.load(f_Colt)\n",
    "with open('res_bc_Funet_rnsga2.pkl','rb') as f_Funet:\n",
    "    res_Funet = pickle.load(f_Funet)\n",
    "with open('res_bc_Abvt_rnsga2.pkl','rb') as f_Abvt:\n",
    "    res_Abvt = pickle.load(f_Abvt)\n",
    "with open('res_bc_Intellifiber_rnsga2.pkl','rb') as f_Intellifiber:\n",
    "    res_Intellifiber = pickle.load(f_Intellifiber)\n",
    "with open('res_bc_TataNld_rnsga2.pkl','rb') as f_TataNld:\n",
    "    res_TataNld = pickle.load(f_TataNld)\n",
    "with open('res_bc_Internode_rnsga2.pkl','rb') as f_Internode:\n",
    "    res_Internode = pickle.load(f_Internode)\n",
    "with open('res_bc_Missouri_rnsga2.pkl','rb') as f_Missouri:\n",
    "    res_Missouri = pickle.load(f_Missouri)\n",
    "with open('res_bc_Ion_rnsga2.pkl','rb') as f_Ion:\n",
    "    res_Ion = pickle.load(f_Ion)\n",
    "with open('res_bc_Palmetto_rnsga2.pkl','rb') as f_Palmetto:\n",
    "    res_Palmetto = pickle.load(f_Palmetto)"
   ]
  },
  {
   "cell_type": "code",
   "execution_count": 19,
   "id": "92122a92",
   "metadata": {
    "execution": {
     "iopub.execute_input": "2024-03-28T16:12:56.401715Z",
     "iopub.status.busy": "2024-03-28T16:12:56.400846Z",
     "iopub.status.idle": "2024-03-28T16:12:56.411634Z",
     "shell.execute_reply": "2024-03-28T16:12:56.411250Z"
    }
   },
   "outputs": [
    {
     "name": "stdout",
     "output_type": "stream",
     "text": [
      "The amount of generations (Cogent):  1001\n",
      "The amount of generations (UsCarrier):  1001\n",
      "The amount of generations (HiberniaGlobal):  1001\n",
      "The amount of generations (Colt):  1001\n",
      "The amount of generations (Funet):  1001\n",
      "The amount of generations (Abvt):  1001\n",
      "The amount of generations (Intellifiber):  1001\n",
      "The amount of generations (TataNld):  1001\n",
      "The amount of generations (Internode):  1001\n",
      "The amount of generations (Missouri):  1001\n",
      "The amount of generations (Ion):  1001\n",
      "The amount of generations (Palmetto):  1001\n"
     ]
    }
   ],
   "source": [
    "num_gen_Cogent = res_Cogent.algorithm.n_gen\n",
    "num_gen_UsCarrier = res_UsCarrier.algorithm.n_gen\n",
    "num_gen_HiberniaGlobal = res_HiberniaGlobal.algorithm.n_gen\n",
    "num_gen_Colt = res_Colt.algorithm.n_gen\n",
    "num_gen_Funet = res_Funet.algorithm.n_gen\n",
    "num_gen_Abvt = res_Abvt.algorithm.n_gen\n",
    "num_gen_Intellifiber = res_Intellifiber.algorithm.n_gen\n",
    "num_gen_TataNld = res_TataNld.algorithm.n_gen\n",
    "num_gen_Internode = res_Internode.algorithm.n_gen\n",
    "num_gen_Missouri = res_Missouri.algorithm.n_gen\n",
    "num_gen_Ion = res_Ion.algorithm.n_gen\n",
    "num_gen_Palmetto = res_Palmetto.algorithm.n_gen\n",
    "\n",
    "print('The amount of generations (Cogent): ', num_gen_Cogent)\n",
    "print('The amount of generations (UsCarrier): ', num_gen_UsCarrier)\n",
    "print('The amount of generations (HiberniaGlobal): ', num_gen_HiberniaGlobal)\n",
    "print('The amount of generations (Colt): ', num_gen_Colt)\n",
    "print('The amount of generations (Funet): ', num_gen_Funet)\n",
    "print('The amount of generations (Abvt): ', num_gen_Abvt)\n",
    "print('The amount of generations (Intellifiber): ', num_gen_Intellifiber)\n",
    "print('The amount of generations (TataNld): ', num_gen_TataNld)\n",
    "print('The amount of generations (Internode): ', num_gen_Internode)\n",
    "print('The amount of generations (Missouri): ', num_gen_Missouri)\n",
    "print('The amount of generations (Ion): ', num_gen_Ion)\n",
    "print('The amount of generations (Palmetto): ', num_gen_Palmetto)"
   ]
  },
  {
   "cell_type": "markdown",
   "id": "e594055f",
   "metadata": {},
   "source": [
    "## Load rnsga3 results"
   ]
  },
  {
   "cell_type": "code",
   "execution_count": 20,
   "id": "58d1beda",
   "metadata": {
    "execution": {
     "iopub.execute_input": "2024-03-28T16:12:56.414606Z",
     "iopub.status.busy": "2024-03-28T16:12:56.413796Z",
     "iopub.status.idle": "2024-03-28T16:19:25.138259Z",
     "shell.execute_reply": "2024-03-28T16:19:25.137557Z"
    }
   },
   "outputs": [],
   "source": [
    "with open('res_bc_Cogent_rnsga3.pkl','rb') as f_Cogent:\n",
    "    res_Cogent = pickle.load(f_Cogent)\n",
    "with open('res_bc_UsCarrier_rnsga3.pkl','rb') as f_UsCarrier:\n",
    "    res_UsCarrier = pickle.load(f_UsCarrier)\n",
    "with open('res_bc_HiberniaGlobal_rnsga3.pkl','rb') as f_HiberniaGlobal:\n",
    "    res_HiberniaGlobal = pickle.load(f_HiberniaGlobal)\n",
    "with open('res_bc_Colt_rnsga3.pkl','rb') as f_Colt:\n",
    "    res_Colt = pickle.load(f_Colt)\n",
    "with open('res_bc_Funet_rnsga3.pkl','rb') as f_Funet:\n",
    "    res_Funet = pickle.load(f_Funet)\n",
    "with open('res_bc_Abvt_rnsga3.pkl','rb') as f_Abvt:\n",
    "    res_Abvt = pickle.load(f_Abvt)\n",
    "with open('res_bc_Intellifiber_rnsga3.pkl','rb') as f_Intellifiber:\n",
    "    res_Intellifiber = pickle.load(f_Intellifiber)\n",
    "with open('res_bc_TataNld_rnsga3.pkl','rb') as f_TataNld:\n",
    "    res_TataNld = pickle.load(f_TataNld)\n",
    "with open('res_bc_Internode_rnsga3.pkl','rb') as f_Internode:\n",
    "    res_Internode = pickle.load(f_Internode)\n",
    "with open('res_bc_Missouri_rnsga3.pkl','rb') as f_Missouri:\n",
    "    res_Missouri = pickle.load(f_Missouri)\n",
    "with open('res_bc_Ion_rnsga3.pkl','rb') as f_Ion:\n",
    "    res_Ion = pickle.load(f_Ion)\n",
    "with open('res_bc_Palmetto_rnsga3.pkl','rb') as f_Palmetto:\n",
    "    res_Palmetto = pickle.load(f_Palmetto)"
   ]
  },
  {
   "cell_type": "code",
   "execution_count": 21,
   "id": "16e544f2",
   "metadata": {
    "execution": {
     "iopub.execute_input": "2024-03-28T16:19:25.174421Z",
     "iopub.status.busy": "2024-03-28T16:19:25.173521Z",
     "iopub.status.idle": "2024-03-28T16:19:25.181128Z",
     "shell.execute_reply": "2024-03-28T16:19:25.180745Z"
    }
   },
   "outputs": [
    {
     "name": "stdout",
     "output_type": "stream",
     "text": [
      "The amount of generations (Cogent):  1001\n",
      "The amount of generations (UsCarrier):  1001\n",
      "The amount of generations (HiberniaGlobal):  1001\n",
      "The amount of generations (Colt):  1001\n",
      "The amount of generations (Funet):  1001\n",
      "The amount of generations (Abvt):  1001\n",
      "The amount of generations (Intellifiber):  1001\n",
      "The amount of generations (TataNld):  1001\n",
      "The amount of generations (Internode):  1001\n",
      "The amount of generations (Missouri):  1001\n",
      "The amount of generations (Ion):  1001\n",
      "The amount of generations (Palmetto):  1001\n"
     ]
    }
   ],
   "source": [
    "num_gen_Cogent = res_Cogent.algorithm.n_gen\n",
    "num_gen_UsCarrier = res_UsCarrier.algorithm.n_gen\n",
    "num_gen_HiberniaGlobal = res_HiberniaGlobal.algorithm.n_gen\n",
    "num_gen_Colt = res_Colt.algorithm.n_gen\n",
    "num_gen_Funet = res_Funet.algorithm.n_gen\n",
    "num_gen_Abvt = res_Abvt.algorithm.n_gen\n",
    "num_gen_Intellifiber = res_Intellifiber.algorithm.n_gen\n",
    "num_gen_TataNld = res_TataNld.algorithm.n_gen\n",
    "num_gen_Internode = res_Internode.algorithm.n_gen\n",
    "num_gen_Missouri = res_Missouri.algorithm.n_gen\n",
    "num_gen_Ion = res_Ion.algorithm.n_gen\n",
    "num_gen_Palmetto = res_Palmetto.algorithm.n_gen\n",
    "\n",
    "print('The amount of generations (Cogent): ', num_gen_Cogent)\n",
    "print('The amount of generations (UsCarrier): ', num_gen_UsCarrier)\n",
    "print('The amount of generations (HiberniaGlobal): ', num_gen_HiberniaGlobal)\n",
    "print('The amount of generations (Colt): ', num_gen_Colt)\n",
    "print('The amount of generations (Funet): ', num_gen_Funet)\n",
    "print('The amount of generations (Abvt): ', num_gen_Abvt)\n",
    "print('The amount of generations (Intellifiber): ', num_gen_Intellifiber)\n",
    "print('The amount of generations (TataNld): ', num_gen_TataNld)\n",
    "print('The amount of generations (Internode): ', num_gen_Internode)\n",
    "print('The amount of generations (Missouri): ', num_gen_Missouri)\n",
    "print('The amount of generations (Ion): ', num_gen_Ion)\n",
    "print('The amount of generations (Palmetto): ', num_gen_Palmetto)"
   ]
  },
  {
   "cell_type": "markdown",
   "id": "32c45fdd",
   "metadata": {},
   "source": [
    "## Load rvea results"
   ]
  },
  {
   "cell_type": "code",
   "execution_count": 22,
   "id": "6189e7fb",
   "metadata": {
    "execution": {
     "iopub.execute_input": "2024-03-28T16:19:25.184192Z",
     "iopub.status.busy": "2024-03-28T16:19:25.183404Z",
     "iopub.status.idle": "2024-03-28T16:26:10.300931Z",
     "shell.execute_reply": "2024-03-28T16:26:10.300283Z"
    }
   },
   "outputs": [],
   "source": [
    "with open('res_bc_Cogent_rvea.pkl','rb') as f_Cogent:\n",
    "    res_Cogent = pickle.load(f_Cogent)\n",
    "with open('res_bc_UsCarrier_rvea.pkl','rb') as f_UsCarrier:\n",
    "    res_UsCarrier = pickle.load(f_UsCarrier)\n",
    "with open('res_bc_HiberniaGlobal_rvea.pkl','rb') as f_HiberniaGlobal:\n",
    "    res_HiberniaGlobal = pickle.load(f_HiberniaGlobal)\n",
    "with open('res_bc_Colt_rvea.pkl','rb') as f_Colt:\n",
    "    res_Colt = pickle.load(f_Colt)\n",
    "with open('res_bc_Funet_rvea.pkl','rb') as f_Funet:\n",
    "    res_Funet = pickle.load(f_Funet)\n",
    "with open('res_bc_Abvt_rvea.pkl','rb') as f_Abvt:\n",
    "    res_Abvt = pickle.load(f_Abvt)\n",
    "with open('res_bc_Intellifiber_rvea.pkl','rb') as f_Intellifiber:\n",
    "    res_Intellifiber = pickle.load(f_Intellifiber)\n",
    "with open('res_bc_TataNld_rvea.pkl','rb') as f_TataNld:\n",
    "    res_TataNld = pickle.load(f_TataNld)\n",
    "with open('res_bc_Internode_rvea.pkl','rb') as f_Internode:\n",
    "    res_Internode = pickle.load(f_Internode)\n",
    "with open('res_bc_Missouri_rvea.pkl','rb') as f_Missouri:\n",
    "    res_Missouri = pickle.load(f_Missouri)\n",
    "with open('res_bc_Ion_rvea.pkl','rb') as f_Ion:\n",
    "    res_Ion = pickle.load(f_Ion)\n",
    "with open('res_bc_Palmetto_rvea.pkl','rb') as f_Palmetto:\n",
    "    res_Palmetto = pickle.load(f_Palmetto)"
   ]
  },
  {
   "cell_type": "code",
   "execution_count": 23,
   "id": "e1ce9991",
   "metadata": {
    "execution": {
     "iopub.execute_input": "2024-03-28T16:26:10.329796Z",
     "iopub.status.busy": "2024-03-28T16:26:10.328981Z",
     "iopub.status.idle": "2024-03-28T16:26:10.335976Z",
     "shell.execute_reply": "2024-03-28T16:26:10.335621Z"
    }
   },
   "outputs": [
    {
     "name": "stdout",
     "output_type": "stream",
     "text": [
      "The amount of generations (Cogent):  1001\n",
      "The amount of generations (UsCarrier):  1001\n",
      "The amount of generations (HiberniaGlobal):  1001\n",
      "The amount of generations (Colt):  1001\n",
      "The amount of generations (Funet):  1001\n",
      "The amount of generations (Abvt):  1001\n",
      "The amount of generations (Intellifiber):  1001\n",
      "The amount of generations (TataNld):  1001\n",
      "The amount of generations (Internode):  1001\n",
      "The amount of generations (Missouri):  1001\n",
      "The amount of generations (Ion):  1001\n",
      "The amount of generations (Palmetto):  1001\n"
     ]
    }
   ],
   "source": [
    "num_gen_Cogent = res_Cogent.algorithm.n_gen\n",
    "num_gen_UsCarrier = res_UsCarrier.algorithm.n_gen\n",
    "num_gen_HiberniaGlobal = res_HiberniaGlobal.algorithm.n_gen\n",
    "num_gen_Colt = res_Colt.algorithm.n_gen\n",
    "num_gen_Funet = res_Funet.algorithm.n_gen\n",
    "num_gen_Abvt = res_Abvt.algorithm.n_gen\n",
    "num_gen_Intellifiber = res_Intellifiber.algorithm.n_gen\n",
    "num_gen_TataNld = res_TataNld.algorithm.n_gen\n",
    "num_gen_Internode = res_Internode.algorithm.n_gen\n",
    "num_gen_Missouri = res_Missouri.algorithm.n_gen\n",
    "num_gen_Ion = res_Ion.algorithm.n_gen\n",
    "num_gen_Palmetto = res_Palmetto.algorithm.n_gen\n",
    "\n",
    "print('The amount of generations (Cogent): ', num_gen_Cogent)\n",
    "print('The amount of generations (UsCarrier): ', num_gen_UsCarrier)\n",
    "print('The amount of generations (HiberniaGlobal): ', num_gen_HiberniaGlobal)\n",
    "print('The amount of generations (Colt): ', num_gen_Colt)\n",
    "print('The amount of generations (Funet): ', num_gen_Funet)\n",
    "print('The amount of generations (Abvt): ', num_gen_Abvt)\n",
    "print('The amount of generations (Intellifiber): ', num_gen_Intellifiber)\n",
    "print('The amount of generations (TataNld): ', num_gen_TataNld)\n",
    "print('The amount of generations (Internode): ', num_gen_Internode)\n",
    "print('The amount of generations (Missouri): ', num_gen_Missouri)\n",
    "print('The amount of generations (Ion): ', num_gen_Ion)\n",
    "print('The amount of generations (Palmetto): ', num_gen_Palmetto)"
   ]
  },
  {
   "cell_type": "markdown",
   "id": "3ed6ae39",
   "metadata": {},
   "source": [
    "## Load smsemoa results"
   ]
  },
  {
   "cell_type": "code",
   "execution_count": 24,
   "id": "8fdf0fe1",
   "metadata": {
    "execution": {
     "iopub.execute_input": "2024-03-28T16:26:10.338795Z",
     "iopub.status.busy": "2024-03-28T16:26:10.338005Z",
     "iopub.status.idle": "2024-03-28T16:32:04.067585Z",
     "shell.execute_reply": "2024-03-28T16:32:04.025977Z"
    }
   },
   "outputs": [],
   "source": [
    "with open('res_bc_Cogent_smsemoa.pkl','rb') as f_Cogent:\n",
    "    res_Cogent = pickle.load(f_Cogent)\n",
    "with open('res_bc_UsCarrier_smsemoa.pkl','rb') as f_UsCarrier:\n",
    "    res_UsCarrier = pickle.load(f_UsCarrier)\n",
    "with open('res_bc_HiberniaGlobal_smsemoa.pkl','rb') as f_HiberniaGlobal:\n",
    "    res_HiberniaGlobal = pickle.load(f_HiberniaGlobal)\n",
    "with open('res_bc_Colt_smsemoa.pkl','rb') as f_Colt:\n",
    "    res_Colt = pickle.load(f_Colt)\n",
    "with open('res_bc_Funet_smsemoa.pkl','rb') as f_Funet:\n",
    "    res_Funet = pickle.load(f_Funet)\n",
    "with open('res_bc_Abvt_smsemoa.pkl','rb') as f_Abvt:\n",
    "    res_Abvt = pickle.load(f_Abvt)\n",
    "with open('res_bc_Intellifiber_smsemoa.pkl','rb') as f_Intellifiber:\n",
    "    res_Intellifiber = pickle.load(f_Intellifiber)\n",
    "with open('res_bc_TataNld_smsemoa.pkl','rb') as f_TataNld:\n",
    "    res_TataNld = pickle.load(f_TataNld)\n",
    "with open('res_bc_Internode_smsemoa.pkl','rb') as f_Internode:\n",
    "    res_Internode = pickle.load(f_Internode)\n",
    "with open('res_bc_Missouri_smsemoa.pkl','rb') as f_Missouri:\n",
    "    res_Missouri = pickle.load(f_Missouri)\n",
    "with open('res_bc_Ion_smsemoa.pkl','rb') as f_Ion:\n",
    "    res_Ion = pickle.load(f_Ion)\n",
    "with open('res_bc_Palmetto_smsemoa.pkl','rb') as f_Palmetto:\n",
    "    res_Palmetto = pickle.load(f_Palmetto)"
   ]
  },
  {
   "cell_type": "code",
   "execution_count": 25,
   "id": "aee1b3de",
   "metadata": {
    "execution": {
     "iopub.execute_input": "2024-03-28T16:32:04.242863Z",
     "iopub.status.busy": "2024-03-28T16:32:04.241923Z",
     "iopub.status.idle": "2024-03-28T16:32:04.259584Z",
     "shell.execute_reply": "2024-03-28T16:32:04.259161Z"
    }
   },
   "outputs": [
    {
     "name": "stdout",
     "output_type": "stream",
     "text": [
      "The amount of generations (Cogent):  1001\n",
      "The amount of generations (UsCarrier):  1001\n",
      "The amount of generations (HiberniaGlobal):  1001\n",
      "The amount of generations (Colt):  1001\n",
      "The amount of generations (Funet):  1001\n",
      "The amount of generations (Abvt):  1001\n",
      "The amount of generations (Intellifiber):  1001\n",
      "The amount of generations (TataNld):  1001\n",
      "The amount of generations (Internode):  1001\n",
      "The amount of generations (Missouri):  1001\n",
      "The amount of generations (Ion):  1001\n",
      "The amount of generations (Palmetto):  1001\n"
     ]
    }
   ],
   "source": [
    "num_gen_Cogent = res_Cogent.algorithm.n_gen\n",
    "num_gen_UsCarrier = res_UsCarrier.algorithm.n_gen\n",
    "num_gen_HiberniaGlobal = res_HiberniaGlobal.algorithm.n_gen\n",
    "num_gen_Colt = res_Colt.algorithm.n_gen\n",
    "num_gen_Funet = res_Funet.algorithm.n_gen\n",
    "num_gen_Abvt = res_Abvt.algorithm.n_gen\n",
    "num_gen_Intellifiber = res_Intellifiber.algorithm.n_gen\n",
    "num_gen_TataNld = res_TataNld.algorithm.n_gen\n",
    "num_gen_Internode = res_Internode.algorithm.n_gen\n",
    "num_gen_Missouri = res_Missouri.algorithm.n_gen\n",
    "num_gen_Ion = res_Ion.algorithm.n_gen\n",
    "num_gen_Palmetto = res_Palmetto.algorithm.n_gen\n",
    "\n",
    "print('The amount of generations (Cogent): ', num_gen_Cogent)\n",
    "print('The amount of generations (UsCarrier): ', num_gen_UsCarrier)\n",
    "print('The amount of generations (HiberniaGlobal): ', num_gen_HiberniaGlobal)\n",
    "print('The amount of generations (Colt): ', num_gen_Colt)\n",
    "print('The amount of generations (Funet): ', num_gen_Funet)\n",
    "print('The amount of generations (Abvt): ', num_gen_Abvt)\n",
    "print('The amount of generations (Intellifiber): ', num_gen_Intellifiber)\n",
    "print('The amount of generations (TataNld): ', num_gen_TataNld)\n",
    "print('The amount of generations (Internode): ', num_gen_Internode)\n",
    "print('The amount of generations (Missouri): ', num_gen_Missouri)\n",
    "print('The amount of generations (Ion): ', num_gen_Ion)\n",
    "print('The amount of generations (Palmetto): ', num_gen_Palmetto)"
   ]
  },
  {
   "cell_type": "markdown",
   "id": "78878dd7",
   "metadata": {},
   "source": [
    "## Load unsga3 results"
   ]
  },
  {
   "cell_type": "code",
   "execution_count": 26,
   "id": "d98c8126",
   "metadata": {
    "execution": {
     "iopub.execute_input": "2024-03-28T16:32:04.404059Z",
     "iopub.status.busy": "2024-03-28T16:32:04.401431Z",
     "iopub.status.idle": "2024-03-28T16:39:03.418412Z",
     "shell.execute_reply": "2024-03-28T16:39:03.417711Z"
    }
   },
   "outputs": [],
   "source": [
    "with open('res_bc_Cogent_unsga3.pkl','rb') as f_Cogent:\n",
    "    res_Cogent = pickle.load(f_Cogent)\n",
    "with open('res_bc_UsCarrier_unsga3.pkl','rb') as f_UsCarrier:\n",
    "    res_UsCarrier = pickle.load(f_UsCarrier)\n",
    "with open('res_bc_HiberniaGlobal_unsga3.pkl','rb') as f_HiberniaGlobal:\n",
    "    res_HiberniaGlobal = pickle.load(f_HiberniaGlobal)\n",
    "with open('res_bc_Colt_unsga3.pkl','rb') as f_Colt:\n",
    "    res_Colt = pickle.load(f_Colt)\n",
    "with open('res_bc_Funet_unsga3.pkl','rb') as f_Funet:\n",
    "    res_Funet = pickle.load(f_Funet)\n",
    "with open('res_bc_Abvt_unsga3.pkl','rb') as f_Abvt:\n",
    "    res_Abvt = pickle.load(f_Abvt)\n",
    "with open('res_bc_Intellifiber_unsga3.pkl','rb') as f_Intellifiber:\n",
    "    res_Intellifiber = pickle.load(f_Intellifiber)\n",
    "with open('res_bc_TataNld_unsga3.pkl','rb') as f_TataNld:\n",
    "    res_TataNld = pickle.load(f_TataNld)\n",
    "with open('res_bc_Internode_unsga3.pkl','rb') as f_Internode:\n",
    "    res_Internode = pickle.load(f_Internode)\n",
    "with open('res_bc_Missouri_unsga3.pkl','rb') as f_Missouri:\n",
    "    res_Missouri = pickle.load(f_Missouri)\n",
    "with open('res_bc_Ion_unsga3.pkl','rb') as f_Ion:\n",
    "    res_Ion = pickle.load(f_Ion)\n",
    "with open('res_bc_Palmetto_unsga3.pkl','rb') as f_Palmetto:\n",
    "    res_Palmetto = pickle.load(f_Palmetto)"
   ]
  },
  {
   "cell_type": "code",
   "execution_count": 27,
   "id": "116921fb-1d91-4612-9876-69374c2df104",
   "metadata": {
    "execution": {
     "iopub.execute_input": "2024-03-28T16:39:03.457505Z",
     "iopub.status.busy": "2024-03-28T16:39:03.456631Z",
     "iopub.status.idle": "2024-03-28T16:39:03.464198Z",
     "shell.execute_reply": "2024-03-28T16:39:03.463804Z"
    }
   },
   "outputs": [
    {
     "name": "stdout",
     "output_type": "stream",
     "text": [
      "The amount of generations (Cogent):  1001\n",
      "The amount of generations (UsCarrier):  1001\n",
      "The amount of generations (HiberniaGlobal):  1001\n",
      "The amount of generations (Colt):  1001\n",
      "The amount of generations (Funet):  1001\n",
      "The amount of generations (Abvt):  1001\n",
      "The amount of generations (Intellifiber):  1001\n",
      "The amount of generations (TataNld):  1001\n",
      "The amount of generations (Internode):  1001\n",
      "The amount of generations (Missouri):  1001\n",
      "The amount of generations (Ion):  1001\n",
      "The amount of generations (Palmetto):  1001\n"
     ]
    }
   ],
   "source": [
    "num_gen_Cogent = res_Cogent.algorithm.n_gen\n",
    "num_gen_UsCarrier = res_UsCarrier.algorithm.n_gen\n",
    "num_gen_HiberniaGlobal = res_HiberniaGlobal.algorithm.n_gen\n",
    "num_gen_Colt = res_Colt.algorithm.n_gen\n",
    "num_gen_Funet = res_Funet.algorithm.n_gen\n",
    "num_gen_Abvt = res_Abvt.algorithm.n_gen\n",
    "num_gen_Intellifiber = res_Intellifiber.algorithm.n_gen\n",
    "num_gen_TataNld = res_TataNld.algorithm.n_gen\n",
    "num_gen_Internode = res_Internode.algorithm.n_gen\n",
    "num_gen_Missouri = res_Missouri.algorithm.n_gen\n",
    "num_gen_Ion = res_Ion.algorithm.n_gen\n",
    "num_gen_Palmetto = res_Palmetto.algorithm.n_gen\n",
    "\n",
    "print('The amount of generations (Cogent): ', num_gen_Cogent)\n",
    "print('The amount of generations (UsCarrier): ', num_gen_UsCarrier)\n",
    "print('The amount of generations (HiberniaGlobal): ', num_gen_HiberniaGlobal)\n",
    "print('The amount of generations (Colt): ', num_gen_Colt)\n",
    "print('The amount of generations (Funet): ', num_gen_Funet)\n",
    "print('The amount of generations (Abvt): ', num_gen_Abvt)\n",
    "print('The amount of generations (Intellifiber): ', num_gen_Intellifiber)\n",
    "print('The amount of generations (TataNld): ', num_gen_TataNld)\n",
    "print('The amount of generations (Internode): ', num_gen_Internode)\n",
    "print('The amount of generations (Missouri): ', num_gen_Missouri)\n",
    "print('The amount of generations (Ion): ', num_gen_Ion)\n",
    "print('The amount of generations (Palmetto): ', num_gen_Palmetto)"
   ]
  }
 ],
 "metadata": {
  "kernelspec": {
   "display_name": "Python 3 (ipykernel)",
   "language": "python",
   "name": "python3"
  },
  "language_info": {
   "codemirror_mode": {
    "name": "ipython",
    "version": 3
   },
   "file_extension": ".py",
   "mimetype": "text/x-python",
   "name": "python",
   "nbconvert_exporter": "python",
   "pygments_lexer": "ipython3",
   "version": "3.11.4"
  }
 },
 "nbformat": 4,
 "nbformat_minor": 5
}
