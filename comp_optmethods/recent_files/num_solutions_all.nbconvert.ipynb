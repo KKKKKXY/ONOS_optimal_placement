{
 "cells": [
  {
   "cell_type": "markdown",
   "id": "8743046d-b869-4bf8-9c76-303a2ccfcd02",
   "metadata": {},
   "source": [
    "# Load the pymoo result object saved with pickle.\n",
    "ONOSControllerPlacement needs to be definded to load the result object.\n",
    "So, execute the following cell first."
   ]
  },
  {
   "cell_type": "code",
   "execution_count": 1,
   "id": "ddb40093-adb5-4fcd-8aee-56971de76e56",
   "metadata": {
    "execution": {
     "iopub.execute_input": "2024-03-28T12:20:22.722054Z",
     "iopub.status.busy": "2024-03-28T12:20:22.721708Z",
     "iopub.status.idle": "2024-03-28T12:20:32.139768Z",
     "shell.execute_reply": "2024-03-28T12:20:32.138810Z"
    }
   },
   "outputs": [],
   "source": [
    "#!/usr/bin/env python\n",
    "import numpy as np\n",
    "import networkx as nx\n",
    "import math\n",
    "import pickle\n",
    "from pymoo.core.problem import ElementwiseProblem\n",
    "\n",
    "class ONOSControllerPlacement(ElementwiseProblem):\n",
    "    def __init__(self, num_nodes, distance_matrix, shortest_paths, graph, **kwargs):\n",
    "        super().__init__(n_var=2*num_nodes, \n",
    "                         n_obj=4, \n",
    "                         n_constr=2, \n",
    "                         xl=0, xu=1, \n",
    "                         **kwargs)\n",
    "        self.num_nodes = num_nodes\n",
    "        self.distance_matrix = distance_matrix\n",
    "        self.shortest_paths = shortest_paths\n",
    "        self.graph = graph\n",
    "    \n",
    "    def _evaluate(self, x, out, *args, **kwargs):\n",
    "        controller_nodes = x[:self.num_nodes]   # first half is controller placement\n",
    "        atomix_nodes = x[self.num_nodes:]       # second half is atomix placement\n",
    "\n",
    "\n",
    "        num_controller = np.sum(controller_nodes)\n",
    "        num_atomix = np.sum(atomix_nodes)\n",
    "\n",
    "        # Obj1: Minimize number of contrtoller\n",
    "        f1 = num_controller\n",
    "\n",
    "        # Obj2: Minimize number of atomix\n",
    "        f2 = num_atomix\n",
    "\n",
    "        # Obj3: Minimize average FSP\n",
    "        f3 = calculate_FST(self.num_nodes, \n",
    "                           controller_nodes, \n",
    "                           atomix_nodes, \n",
    "                           self.distance_matrix, \n",
    "                           self.shortest_paths)\n",
    "        \n",
    "        f4 = calculate_BC(self.num_nodes, \n",
    "                           controller_nodes, \n",
    "                           atomix_nodes, \n",
    "                           self.distance_matrix, \n",
    "                        #    self.shortest_paths,\n",
    "                           self.graph)\n",
    "\n",
    "        # Constr1: The number of controller is equal to or greater than 2\n",
    "        g1 = 2 - num_controller\n",
    "\n",
    "        # Constr2: The number of atomix is equal to or greater than 3\n",
    "        g2 = 3 - num_atomix\n",
    "        \n",
    "        # Add the centrality metrix into optimazing objectives:\n",
    "        # 1. Nearest controller for each switch\n",
    "        # 2. The number of controlled switches for each controller should be <= limit_num_switches_controlled (limit_num_switches_controlled=int(math.ceil(num_nodes/num_controller)))\n",
    "        # 3. return value should be the variance for all controller's betweenness centrality\n",
    "        out[\"F\"] = [f1, f2, f3, f4]\n",
    "        out[\"G\"] = [g1, g2]\n",
    "\n",
    "\n",
    "def calculate_FST(num_nodes, controller_nodes, atomix_nodes, distance_matrix, shortest_paths):\n",
    "    num_controller = np.sum(controller_nodes)\n",
    "    num_atomix = np.sum(atomix_nodes)\n",
    "    controller_list = np.nonzero(controller_nodes)[0].tolist()\n",
    "    atomix_list = np.nonzero(atomix_nodes)[0].tolist()\n",
    "\n",
    "    if(num_controller == 0 or num_atomix ==0):\n",
    "        return math.inf\n",
    "\n",
    "    # find the nearest controller for each switch\n",
    "    controller_of = []\n",
    "    for s in range(num_nodes):\n",
    "        delay = math.inf\n",
    "        nearest_controller = None\n",
    "        for c in controller_list:\n",
    "            if distance_matrix[s][c] < delay:\n",
    "                delay = distance_matrix[s][c]\n",
    "                nearest_controller = c\n",
    "        controller_of.append(nearest_controller)    \n",
    "\n",
    "    # calculate average delay to atomix nodes from each controller\n",
    "    average_atomix_delay_from = {}\n",
    "    for c in controller_list:\n",
    "        delay = []\n",
    "        for a in atomix_list:\n",
    "            delay.append(distance_matrix[c][a])\n",
    "        average_atomix_delay_from[c] = np.mean(delay)\n",
    "\n",
    "    # find the nearest atomix for each atomix and calculate average delay\n",
    "    atomix_atomix_delays = []\n",
    "    for a1 in atomix_list:\n",
    "        delay = math.inf\n",
    "        for a2 in atomix_list:\n",
    "            if(a1 == a2):\n",
    "                continue\n",
    "            if distance_matrix[a1][a2] < delay:\n",
    "                delay = distance_matrix[a1][a2]\n",
    "        atomix_atomix_delays.append(delay)\n",
    "    average_atomix_atomix_delay = np.mean(atomix_atomix_delays)\n",
    "    FTSs = []\n",
    "    for source in range(num_nodes):\n",
    "        for distination in range(num_nodes):\n",
    "            if(source == distination):\n",
    "                continue\n",
    "            delay = 0\n",
    "            is_controlled_by_single_controller = True\n",
    "            counted_controllers = []\n",
    "            for s in shortest_paths[source][distination]:\n",
    "                # switch-controller delay\n",
    "                delay += distance_matrix[s][controller_of[s]] * 4\n",
    "\n",
    "                # controller-atomix delay\n",
    "                if(s == source):\n",
    "                    delay += average_atomix_delay_from[controller_of[s]] * 2\n",
    "                elif(s != distination):\n",
    "                    if(controller_of[s] != controller_of[source]):\n",
    "                        is_controlled_by_single_controller = False\n",
    "                        if(not controller_of[s] in counted_controllers):\n",
    "                            counted_controllers.append(controller_of[s])\n",
    "                            delay += average_atomix_delay_from[controller_of[s]]\n",
    "                else:\n",
    "                    if(controller_of[s] == controller_of[source]):\n",
    "                        if(not is_controlled_by_single_controller):\n",
    "                            delay += average_atomix_delay_from[controller_of[s]]\n",
    "                    else:\n",
    "                        delay += average_atomix_delay_from[controller_of[s]] * 2\n",
    "            \n",
    "            # atomix-atomix delay\n",
    "            delay +=  average_atomix_atomix_delay * 2\n",
    "            FTSs.append(delay)\n",
    "\n",
    "    return np.mean(FTSs)\n",
    "\n",
    "\n",
    "\n",
    "def calculate_BC(num_nodes, controller_nodes, atomix_nodes, distance_matrix, graph):\n",
    "    G = nx.Graph()\n",
    "    for node1 in range(len(graph)):\n",
    "        G.add_node(str(node1))\n",
    "        for node2, delay in graph[node1].items():\n",
    "            G.add_edge(str(node1), str(node2), weight=delay)\n",
    "    \n",
    "    # The list of betweenness centrality for all switches\n",
    "    nodes_bc=nx.current_flow_betweenness_centrality(G, normalized=True, weight=None, dtype='float', solver='full')\n",
    "    num_controller = np.sum(controller_nodes)\n",
    "    num_atomix = np.sum(atomix_nodes)\n",
    "    controller_list = np.nonzero(controller_nodes)[0].tolist()\n",
    "\n",
    "    if(num_controller == 0 or num_atomix ==0):\n",
    "        return math.inf\n",
    "\n",
    "    # find the nearest controller for each switch\n",
    "    controller_of = []\n",
    "    limit_num_switches_controlled=int(math.ceil(num_nodes/num_controller)) # balance the number of switches controllers can control \n",
    "    switches_bc_of_controller_ = dict.fromkeys((range(num_nodes)),0) # list of sum of betweenness centrality of switches for each controller\n",
    "    for s in range(num_nodes):\n",
    "        delay = math.inf\n",
    "        nearest_controller = None\n",
    "        controlled_switches=[]\n",
    "        for c in controller_list:\n",
    "            # Conditions: nearest controller (with the lowest delay) && the number of switches for each controller < limit_num_switches_controlled\n",
    "            if distance_matrix[s][c] < delay and controller_of.count(c) < limit_num_switches_controlled:\n",
    "                delay = distance_matrix[s][c]\n",
    "                nearest_controller = c\n",
    "                controlled_switches.append(s)\n",
    "        switches_bc_of_controller_[nearest_controller] += nodes_bc[str(s)]\n",
    "        controller_of.append(nearest_controller)\n",
    "    \n",
    "    # Simplify switches_bc_of_controller_ (only need value for calculating variance)\n",
    "    bc_array = []\n",
    "    for i in switches_bc_of_controller_.values():\n",
    "        bc_array.append(i)\n",
    "\n",
    "    # return variance value can show the degree of balance within all controllers\n",
    "    return np.var(bc_array)"
   ]
  },
  {
   "cell_type": "markdown",
   "id": "743b1254-3e22-4275-a954-8b980459869b",
   "metadata": {},
   "source": [
    "## Load ctaea results"
   ]
  },
  {
   "cell_type": "code",
   "execution_count": 2,
   "id": "f2d49d7e",
   "metadata": {
    "execution": {
     "iopub.execute_input": "2024-03-28T12:20:32.145889Z",
     "iopub.status.busy": "2024-03-28T12:20:32.144306Z",
     "iopub.status.idle": "2024-03-28T12:22:41.489865Z",
     "shell.execute_reply": "2024-03-28T12:22:41.486632Z"
    }
   },
   "outputs": [],
   "source": [
    "with open('res_bc_Cogent_ctaea.pkl','rb') as f_Cogent:\n",
    "    res_Cogent = pickle.load(f_Cogent)\n",
    "with open('res_bc_UsCarrier_ctaea.pkl','rb') as f_UsCarrier:\n",
    "    res_UsCarrier = pickle.load(f_UsCarrier)\n",
    "with open('res_bc_HiberniaGlobal_ctaea.pkl','rb') as f_HiberniaGlobal:\n",
    "    res_HiberniaGlobal = pickle.load(f_HiberniaGlobal)\n",
    "with open('res_bc_Colt_ctaea.pkl','rb') as f_Colt:\n",
    "    res_Colt = pickle.load(f_Colt)\n",
    "with open('res_bc_Funet_ctaea.pkl','rb') as f_Funet:\n",
    "    res_Funet = pickle.load(f_Funet)\n",
    "with open('res_bc_Abvt_ctaea.pkl','rb') as f_Abvt:\n",
    "    res_Abvt = pickle.load(f_Abvt)\n",
    "with open('res_bc_Intellifiber_ctaea.pkl','rb') as f_Intellifiber:\n",
    "    res_Intellifiber = pickle.load(f_Intellifiber)\n",
    "with open('res_bc_TataNld_ctaea.pkl','rb') as f_TataNld:\n",
    "    res_TataNld = pickle.load(f_TataNld)\n",
    "with open('res_bc_Internode_ctaea.pkl','rb') as f_Internode:\n",
    "    res_Internode = pickle.load(f_Internode)\n",
    "with open('res_bc_Missouri_ctaea.pkl','rb') as f_Missouri:\n",
    "    res_Missouri = pickle.load(f_Missouri)\n",
    "with open('res_bc_Ion_ctaea.pkl','rb') as f_Ion:\n",
    "    res_Ion = pickle.load(f_Ion)\n",
    "with open('res_bc_Palmetto_ctaea.pkl','rb') as f_Palmetto:\n",
    "    res_Palmetto = pickle.load(f_Palmetto)"
   ]
  },
  {
   "cell_type": "code",
   "execution_count": 3,
   "id": "4aacec04",
   "metadata": {
    "execution": {
     "iopub.execute_input": "2024-03-28T12:22:41.493557Z",
     "iopub.status.busy": "2024-03-28T12:22:41.492580Z",
     "iopub.status.idle": "2024-03-28T12:22:41.500108Z",
     "shell.execute_reply": "2024-03-28T12:22:41.499599Z"
    }
   },
   "outputs": [
    {
     "name": "stdout",
     "output_type": "stream",
     "text": [
      "The amount of solutions (Cogent):  6\n",
      "The amount of solutions (UsCarrier):  5\n",
      "The amount of solutions (HiberniaGlobal):  5\n",
      "The amount of solutions (Colt):  9\n",
      "The amount of solutions (Funet):  7\n",
      "The amount of solutions (Abvt):  10\n",
      "The amount of solutions (Intellifiber):  6\n",
      "The amount of solutions (TataNld):  8\n",
      "The amount of solutions (Internode):  7\n",
      "The amount of solutions (Missouri):  10\n",
      "The amount of solutions (Ion):  17\n",
      "The amount of solutions (Palmetto):  6\n"
     ]
    }
   ],
   "source": [
    "F_Cogent = res_Cogent.F\n",
    "F_UsCarrier = res_UsCarrier.F\n",
    "F_HiberniaGlobal = res_HiberniaGlobal.F\n",
    "F_Colt = res_Colt.F\n",
    "F_Funet = res_Funet.F\n",
    "F_Abvt = res_Abvt.F\n",
    "F_Intellifiber = res_Intellifiber.F\n",
    "F_TataNld = res_TataNld.F\n",
    "F_Internode = res_Internode.F\n",
    "F_Missouri = res_Missouri.F\n",
    "F_Ion = res_Ion.F\n",
    "F_Palmetto = res_Palmetto.F\n",
    "\n",
    "print('The amount of solutions (Cogent): ', len(F_Cogent))\n",
    "print('The amount of solutions (UsCarrier): ', len(F_UsCarrier))\n",
    "print('The amount of solutions (HiberniaGlobal): ', len(F_HiberniaGlobal))\n",
    "print('The amount of solutions (Colt): ', len(F_Colt))\n",
    "print('The amount of solutions (Funet): ', len(F_Funet))\n",
    "print('The amount of solutions (Abvt): ', len(F_Abvt))\n",
    "print('The amount of solutions (Intellifiber): ', len(F_Intellifiber))\n",
    "print('The amount of solutions (TataNld): ', len(F_TataNld))\n",
    "print('The amount of solutions (Internode): ', len(F_Internode))\n",
    "print('The amount of solutions (Missouri): ', len(F_Missouri))\n",
    "print('The amount of solutions (Ion): ', len(F_Ion))\n",
    "print('The amount of solutions (Palmetto): ', len(F_Palmetto))"
   ]
  },
  {
   "cell_type": "markdown",
   "id": "50e3482e",
   "metadata": {},
   "source": [
    "## Load dnsga2 results"
   ]
  },
  {
   "cell_type": "code",
   "execution_count": 4,
   "id": "53405394",
   "metadata": {
    "execution": {
     "iopub.execute_input": "2024-03-28T12:22:41.502930Z",
     "iopub.status.busy": "2024-03-28T12:22:41.502188Z",
     "iopub.status.idle": "2024-03-28T12:24:18.761327Z",
     "shell.execute_reply": "2024-03-28T12:24:18.760792Z"
    }
   },
   "outputs": [],
   "source": [
    "with open('res_bc_Cogent_dnsga2.pkl','rb') as f_Cogent:\n",
    "    res_Cogent = pickle.load(f_Cogent)\n",
    "with open('res_bc_UsCarrier_dnsga2.pkl','rb') as f_UsCarrier:\n",
    "    res_UsCarrier = pickle.load(f_UsCarrier)\n",
    "with open('res_bc_HiberniaGlobal_dnsga2.pkl','rb') as f_HiberniaGlobal:\n",
    "    res_HiberniaGlobal = pickle.load(f_HiberniaGlobal)\n",
    "with open('res_bc_Colt_dnsga2.pkl','rb') as f_Colt:\n",
    "    res_Colt = pickle.load(f_Colt)\n",
    "with open('res_bc_Funet_dnsga2.pkl','rb') as f_Funet:\n",
    "    res_Funet = pickle.load(f_Funet)\n",
    "with open('res_bc_Abvt_dnsga2.pkl','rb') as f_Abvt:\n",
    "    res_Abvt = pickle.load(f_Abvt)\n",
    "with open('res_bc_Intellifiber_dnsga2.pkl','rb') as f_Intellifiber:\n",
    "    res_Intellifiber = pickle.load(f_Intellifiber)\n",
    "with open('res_bc_TataNld_dnsga2.pkl','rb') as f_TataNld:\n",
    "    res_TataNld = pickle.load(f_TataNld)\n",
    "with open('res_bc_Internode_dnsga2.pkl','rb') as f_Internode:\n",
    "    res_Internode = pickle.load(f_Internode)\n",
    "with open('res_bc_Missouri_dnsga2.pkl','rb') as f_Missouri:\n",
    "    res_Missouri = pickle.load(f_Missouri)\n",
    "with open('res_bc_Ion_dnsga2.pkl','rb') as f_Ion:\n",
    "    res_Ion = pickle.load(f_Ion)\n",
    "with open('res_bc_Palmetto_dnsga2.pkl','rb') as f_Palmetto:\n",
    "    res_Palmetto = pickle.load(f_Palmetto)"
   ]
  },
  {
   "cell_type": "code",
   "execution_count": 5,
   "id": "470e7e39",
   "metadata": {
    "execution": {
     "iopub.execute_input": "2024-03-28T12:24:18.775308Z",
     "iopub.status.busy": "2024-03-28T12:24:18.774469Z",
     "iopub.status.idle": "2024-03-28T12:24:18.781767Z",
     "shell.execute_reply": "2024-03-28T12:24:18.781221Z"
    }
   },
   "outputs": [
    {
     "name": "stdout",
     "output_type": "stream",
     "text": [
      "The amount of solutions (Cogent):  100\n",
      "The amount of solutions (UsCarrier):  100\n",
      "The amount of solutions (HiberniaGlobal):  100\n",
      "The amount of solutions (Colt):  100\n",
      "The amount of solutions (Funet):  100\n",
      "The amount of solutions (Abvt):  100\n",
      "The amount of solutions (Intellifiber):  100\n",
      "The amount of solutions (TataNld):  100\n",
      "The amount of solutions (Internode):  100\n",
      "The amount of solutions (Missouri):  100\n",
      "The amount of solutions (Ion):  100\n",
      "The amount of solutions (Palmetto):  100\n"
     ]
    }
   ],
   "source": [
    "F_Cogent = res_Cogent.F\n",
    "F_UsCarrier = res_UsCarrier.F\n",
    "F_HiberniaGlobal = res_HiberniaGlobal.F\n",
    "F_Colt = res_Colt.F\n",
    "F_Funet = res_Funet.F\n",
    "F_Abvt = res_Abvt.F\n",
    "F_Intellifiber = res_Intellifiber.F\n",
    "F_TataNld = res_TataNld.F\n",
    "F_Internode = res_Internode.F\n",
    "F_Missouri = res_Missouri.F\n",
    "F_Ion = res_Ion.F\n",
    "F_Palmetto = res_Palmetto.F\n",
    "\n",
    "print('The amount of solutions (Cogent): ', len(F_Cogent))\n",
    "print('The amount of solutions (UsCarrier): ', len(F_UsCarrier))\n",
    "print('The amount of solutions (HiberniaGlobal): ', len(F_HiberniaGlobal))\n",
    "print('The amount of solutions (Colt): ', len(F_Colt))\n",
    "print('The amount of solutions (Funet): ', len(F_Funet))\n",
    "print('The amount of solutions (Abvt): ', len(F_Abvt))\n",
    "print('The amount of solutions (Intellifiber): ', len(F_Intellifiber))\n",
    "print('The amount of solutions (TataNld): ', len(F_TataNld))\n",
    "print('The amount of solutions (Internode): ', len(F_Internode))\n",
    "print('The amount of solutions (Missouri): ', len(F_Missouri))\n",
    "print('The amount of solutions (Ion): ', len(F_Ion))\n",
    "print('The amount of solutions (Palmetto): ', len(F_Palmetto))"
   ]
  },
  {
   "cell_type": "markdown",
   "id": "fa745079",
   "metadata": {},
   "source": [
    "## Load kgbdmoea results"
   ]
  },
  {
   "cell_type": "code",
   "execution_count": 6,
   "id": "77f11532",
   "metadata": {
    "execution": {
     "iopub.execute_input": "2024-03-28T12:24:18.784696Z",
     "iopub.status.busy": "2024-03-28T12:24:18.783954Z",
     "iopub.status.idle": "2024-03-28T12:26:20.242793Z",
     "shell.execute_reply": "2024-03-28T12:26:20.242089Z"
    }
   },
   "outputs": [],
   "source": [
    "with open('res_bc_Cogent_kgbdmoea.pkl','rb') as f_Cogent:\n",
    "    res_Cogent = pickle.load(f_Cogent)\n",
    "with open('res_bc_UsCarrier_kgbdmoea.pkl','rb') as f_UsCarrier:\n",
    "    res_UsCarrier = pickle.load(f_UsCarrier)\n",
    "with open('res_bc_HiberniaGlobal_kgbdmoea.pkl','rb') as f_HiberniaGlobal:\n",
    "    res_HiberniaGlobal = pickle.load(f_HiberniaGlobal)\n",
    "with open('res_bc_Colt_kgbdmoea.pkl','rb') as f_Colt:\n",
    "    res_Colt = pickle.load(f_Colt)\n",
    "with open('res_bc_Funet_kgbdmoea.pkl','rb') as f_Funet:\n",
    "    res_Funet = pickle.load(f_Funet)\n",
    "with open('res_bc_Abvt_kgbdmoea.pkl','rb') as f_Abvt:\n",
    "    res_Abvt = pickle.load(f_Abvt)\n",
    "with open('res_bc_Intellifiber_kgbdmoea.pkl','rb') as f_Intellifiber:\n",
    "    res_Intellifiber = pickle.load(f_Intellifiber)\n",
    "with open('res_bc_TataNld_kgbdmoea.pkl','rb') as f_TataNld:\n",
    "    res_TataNld = pickle.load(f_TataNld)\n",
    "with open('res_bc_Internode_kgbdmoea.pkl','rb') as f_Internode:\n",
    "    res_Internode = pickle.load(f_Internode)\n",
    "with open('res_bc_Missouri_kgbdmoea.pkl','rb') as f_Missouri:\n",
    "    res_Missouri = pickle.load(f_Missouri)\n",
    "with open('res_bc_Ion_kgbdmoea.pkl','rb') as f_Ion:\n",
    "    res_Ion = pickle.load(f_Ion)\n",
    "with open('res_bc_Palmetto_kgbdmoea.pkl','rb') as f_Palmetto:\n",
    "    res_Palmetto = pickle.load(f_Palmetto)"
   ]
  },
  {
   "cell_type": "code",
   "execution_count": 7,
   "id": "877ddf23",
   "metadata": {
    "execution": {
     "iopub.execute_input": "2024-03-28T12:26:20.248647Z",
     "iopub.status.busy": "2024-03-28T12:26:20.247609Z",
     "iopub.status.idle": "2024-03-28T12:26:20.255010Z",
     "shell.execute_reply": "2024-03-28T12:26:20.254645Z"
    }
   },
   "outputs": [
    {
     "name": "stdout",
     "output_type": "stream",
     "text": [
      "The amount of solutions (Cogent):  100\n",
      "The amount of solutions (UsCarrier):  100\n",
      "The amount of solutions (HiberniaGlobal):  100\n",
      "The amount of solutions (Colt):  100\n",
      "The amount of solutions (Funet):  100\n",
      "The amount of solutions (Abvt):  100\n",
      "The amount of solutions (Intellifiber):  100\n",
      "The amount of solutions (TataNld):  100\n",
      "The amount of solutions (Internode):  100\n",
      "The amount of solutions (Missouri):  100\n",
      "The amount of solutions (Ion):  100\n",
      "The amount of solutions (Palmetto):  100\n"
     ]
    }
   ],
   "source": [
    "F_Cogent = res_Cogent.F\n",
    "F_UsCarrier = res_UsCarrier.F\n",
    "F_HiberniaGlobal = res_HiberniaGlobal.F\n",
    "F_Colt = res_Colt.F\n",
    "F_Funet = res_Funet.F\n",
    "F_Abvt = res_Abvt.F\n",
    "F_Intellifiber = res_Intellifiber.F\n",
    "F_TataNld = res_TataNld.F\n",
    "F_Internode = res_Internode.F\n",
    "F_Missouri = res_Missouri.F\n",
    "F_Ion = res_Ion.F\n",
    "F_Palmetto = res_Palmetto.F\n",
    "\n",
    "print('The amount of solutions (Cogent): ', len(F_Cogent))\n",
    "print('The amount of solutions (UsCarrier): ', len(F_UsCarrier))\n",
    "print('The amount of solutions (HiberniaGlobal): ', len(F_HiberniaGlobal))\n",
    "print('The amount of solutions (Colt): ', len(F_Colt))\n",
    "print('The amount of solutions (Funet): ', len(F_Funet))\n",
    "print('The amount of solutions (Abvt): ', len(F_Abvt))\n",
    "print('The amount of solutions (Intellifiber): ', len(F_Intellifiber))\n",
    "print('The amount of solutions (TataNld): ', len(F_TataNld))\n",
    "print('The amount of solutions (Internode): ', len(F_Internode))\n",
    "print('The amount of solutions (Missouri): ', len(F_Missouri))\n",
    "print('The amount of solutions (Ion): ', len(F_Ion))\n",
    "print('The amount of solutions (Palmetto): ', len(F_Palmetto))"
   ]
  },
  {
   "cell_type": "markdown",
   "id": "f81ce17e",
   "metadata": {},
   "source": [
    "## Load moead results"
   ]
  },
  {
   "cell_type": "code",
   "execution_count": 8,
   "id": "17136f95",
   "metadata": {
    "execution": {
     "iopub.execute_input": "2024-03-28T12:26:20.257826Z",
     "iopub.status.busy": "2024-03-28T12:26:20.257071Z",
     "iopub.status.idle": "2024-03-28T12:28:21.473990Z",
     "shell.execute_reply": "2024-03-28T12:28:21.473503Z"
    }
   },
   "outputs": [],
   "source": [
    "with open('res_bc_Cogent_moead.pkl','rb') as f_Cogent:\n",
    "    res_Cogent = pickle.load(f_Cogent)\n",
    "with open('res_bc_UsCarrier_moead.pkl','rb') as f_UsCarrier:\n",
    "    res_UsCarrier = pickle.load(f_UsCarrier)\n",
    "with open('res_bc_HiberniaGlobal_moead.pkl','rb') as f_HiberniaGlobal:\n",
    "    res_HiberniaGlobal = pickle.load(f_HiberniaGlobal)\n",
    "with open('res_bc_Colt_moead.pkl','rb') as f_Colt:\n",
    "    res_Colt = pickle.load(f_Colt)\n",
    "with open('res_bc_Funet_moead.pkl','rb') as f_Funet:\n",
    "    res_Funet = pickle.load(f_Funet)\n",
    "with open('res_bc_Abvt_moead.pkl','rb') as f_Abvt:\n",
    "    res_Abvt = pickle.load(f_Abvt)\n",
    "with open('res_bc_Intellifiber_moead.pkl','rb') as f_Intellifiber:\n",
    "    res_Intellifiber = pickle.load(f_Intellifiber)\n",
    "with open('res_bc_TataNld_moead.pkl','rb') as f_TataNld:\n",
    "    res_TataNld = pickle.load(f_TataNld)\n",
    "with open('res_bc_Internode_moead.pkl','rb') as f_Internode:\n",
    "    res_Internode = pickle.load(f_Internode)\n",
    "with open('res_bc_Missouri_moead.pkl','rb') as f_Missouri:\n",
    "    res_Missouri = pickle.load(f_Missouri)\n",
    "with open('res_bc_Ion_moead.pkl','rb') as f_Ion:\n",
    "    res_Ion = pickle.load(f_Ion)\n",
    "with open('res_bc_Palmetto_moead.pkl','rb') as f_Palmetto:\n",
    "    res_Palmetto = pickle.load(f_Palmetto)"
   ]
  },
  {
   "cell_type": "code",
   "execution_count": 9,
   "id": "04fd21f3",
   "metadata": {
    "execution": {
     "iopub.execute_input": "2024-03-28T12:28:21.480767Z",
     "iopub.status.busy": "2024-03-28T12:28:21.479951Z",
     "iopub.status.idle": "2024-03-28T12:28:21.487168Z",
     "shell.execute_reply": "2024-03-28T12:28:21.486513Z"
    }
   },
   "outputs": [
    {
     "name": "stdout",
     "output_type": "stream",
     "text": [
      "The amount of solutions (Cogent):  157\n",
      "The amount of solutions (UsCarrier):  150\n",
      "The amount of solutions (HiberniaGlobal):  164\n",
      "The amount of solutions (Colt):  158\n",
      "The amount of solutions (Funet):  153\n",
      "The amount of solutions (Abvt):  159\n",
      "The amount of solutions (Intellifiber):  152\n",
      "The amount of solutions (TataNld):  162\n",
      "The amount of solutions (Internode):  163\n",
      "The amount of solutions (Missouri):  115\n",
      "The amount of solutions (Ion):  132\n",
      "The amount of solutions (Palmetto):  143\n"
     ]
    }
   ],
   "source": [
    "F_Cogent = res_Cogent.F\n",
    "F_UsCarrier = res_UsCarrier.F\n",
    "F_HiberniaGlobal = res_HiberniaGlobal.F\n",
    "F_Colt = res_Colt.F\n",
    "F_Funet = res_Funet.F\n",
    "F_Abvt = res_Abvt.F\n",
    "F_Intellifiber = res_Intellifiber.F\n",
    "F_TataNld = res_TataNld.F\n",
    "F_Internode = res_Internode.F\n",
    "F_Missouri = res_Missouri.F\n",
    "F_Ion = res_Ion.F\n",
    "F_Palmetto = res_Palmetto.F\n",
    "\n",
    "print('The amount of solutions (Cogent): ', len(F_Cogent))\n",
    "print('The amount of solutions (UsCarrier): ', len(F_UsCarrier))\n",
    "print('The amount of solutions (HiberniaGlobal): ', len(F_HiberniaGlobal))\n",
    "print('The amount of solutions (Colt): ', len(F_Colt))\n",
    "print('The amount of solutions (Funet): ', len(F_Funet))\n",
    "print('The amount of solutions (Abvt): ', len(F_Abvt))\n",
    "print('The amount of solutions (Intellifiber): ', len(F_Intellifiber))\n",
    "print('The amount of solutions (TataNld): ', len(F_TataNld))\n",
    "print('The amount of solutions (Internode): ', len(F_Internode))\n",
    "print('The amount of solutions (Missouri): ', len(F_Missouri))\n",
    "print('The amount of solutions (Ion): ', len(F_Ion))\n",
    "print('The amount of solutions (Palmetto): ', len(F_Palmetto))"
   ]
  },
  {
   "cell_type": "markdown",
   "id": "d7a3b921",
   "metadata": {},
   "source": [
    "## Load agemoea results"
   ]
  },
  {
   "cell_type": "code",
   "execution_count": 10,
   "id": "f3bf8aae",
   "metadata": {
    "execution": {
     "iopub.execute_input": "2024-03-28T12:28:21.489985Z",
     "iopub.status.busy": "2024-03-28T12:28:21.489204Z",
     "iopub.status.idle": "2024-03-28T12:32:59.703166Z",
     "shell.execute_reply": "2024-03-28T12:32:59.702427Z"
    }
   },
   "outputs": [],
   "source": [
    "with open('res_bc_Cogent_agemoea.pkl','rb') as f_Cogent:\n",
    "    res_Cogent = pickle.load(f_Cogent)\n",
    "with open('res_bc_UsCarrier_agemoea.pkl','rb') as f_UsCarrier:\n",
    "    res_UsCarrier = pickle.load(f_UsCarrier)\n",
    "with open('res_bc_HiberniaGlobal_agemoea.pkl','rb') as f_HiberniaGlobal:\n",
    "    res_HiberniaGlobal = pickle.load(f_HiberniaGlobal)\n",
    "with open('res_bc_Colt_agemoea.pkl','rb') as f_Colt:\n",
    "    res_Colt = pickle.load(f_Colt)\n",
    "with open('res_bc_Funet_agemoea.pkl','rb') as f_Funet:\n",
    "    res_Funet = pickle.load(f_Funet)\n",
    "with open('res_bc_Abvt_agemoea.pkl','rb') as f_Abvt:\n",
    "    res_Abvt = pickle.load(f_Abvt)\n",
    "with open('res_bc_Intellifiber_agemoea.pkl','rb') as f_Intellifiber:\n",
    "    res_Intellifiber = pickle.load(f_Intellifiber)\n",
    "with open('res_bc_TataNld_agemoea.pkl','rb') as f_TataNld:\n",
    "    res_TataNld = pickle.load(f_TataNld)\n",
    "with open('res_bc_Internode_agemoea.pkl','rb') as f_Internode:\n",
    "    res_Internode = pickle.load(f_Internode)\n",
    "with open('res_bc_Missouri_agemoea.pkl','rb') as f_Missouri:\n",
    "    res_Missouri = pickle.load(f_Missouri)\n",
    "with open('res_bc_Ion_agemoea.pkl','rb') as f_Ion:\n",
    "    res_Ion = pickle.load(f_Ion)\n",
    "with open('res_bc_Palmetto_agemoea.pkl','rb') as f_Palmetto:\n",
    "    res_Palmetto = pickle.load(f_Palmetto)"
   ]
  },
  {
   "cell_type": "code",
   "execution_count": 11,
   "id": "3c3c0a9a",
   "metadata": {
    "execution": {
     "iopub.execute_input": "2024-03-28T12:32:59.708796Z",
     "iopub.status.busy": "2024-03-28T12:32:59.707965Z",
     "iopub.status.idle": "2024-03-28T12:32:59.715336Z",
     "shell.execute_reply": "2024-03-28T12:32:59.714821Z"
    }
   },
   "outputs": [
    {
     "name": "stdout",
     "output_type": "stream",
     "text": [
      "The amount of solutions (Cogent):  100\n",
      "The amount of solutions (UsCarrier):  100\n",
      "The amount of solutions (HiberniaGlobal):  100\n",
      "The amount of solutions (Colt):  100\n",
      "The amount of solutions (Funet):  100\n",
      "The amount of solutions (Abvt):  100\n",
      "The amount of solutions (Intellifiber):  100\n",
      "The amount of solutions (TataNld):  100\n",
      "The amount of solutions (Internode):  100\n",
      "The amount of solutions (Missouri):  100\n",
      "The amount of solutions (Ion):  100\n",
      "The amount of solutions (Palmetto):  100\n"
     ]
    }
   ],
   "source": [
    "F_Cogent = res_Cogent.F\n",
    "F_UsCarrier = res_UsCarrier.F\n",
    "F_HiberniaGlobal = res_HiberniaGlobal.F\n",
    "F_Colt = res_Colt.F\n",
    "F_Funet = res_Funet.F\n",
    "F_Abvt = res_Abvt.F\n",
    "F_Intellifiber = res_Intellifiber.F\n",
    "F_TataNld = res_TataNld.F\n",
    "F_Internode = res_Internode.F\n",
    "F_Missouri = res_Missouri.F\n",
    "F_Ion = res_Ion.F\n",
    "F_Palmetto = res_Palmetto.F\n",
    "\n",
    "print('The amount of solutions (Cogent): ', len(F_Cogent))\n",
    "print('The amount of solutions (UsCarrier): ', len(F_UsCarrier))\n",
    "print('The amount of solutions (HiberniaGlobal): ', len(F_HiberniaGlobal))\n",
    "print('The amount of solutions (Colt): ', len(F_Colt))\n",
    "print('The amount of solutions (Funet): ', len(F_Funet))\n",
    "print('The amount of solutions (Abvt): ', len(F_Abvt))\n",
    "print('The amount of solutions (Intellifiber): ', len(F_Intellifiber))\n",
    "print('The amount of solutions (TataNld): ', len(F_TataNld))\n",
    "print('The amount of solutions (Internode): ', len(F_Internode))\n",
    "print('The amount of solutions (Missouri): ', len(F_Missouri))\n",
    "print('The amount of solutions (Ion): ', len(F_Ion))\n",
    "print('The amount of solutions (Palmetto): ', len(F_Palmetto))"
   ]
  },
  {
   "cell_type": "markdown",
   "id": "76756443",
   "metadata": {},
   "source": [
    "## Load agemoea2 results"
   ]
  },
  {
   "cell_type": "code",
   "execution_count": 12,
   "id": "7a94e519",
   "metadata": {
    "execution": {
     "iopub.execute_input": "2024-03-28T12:32:59.718149Z",
     "iopub.status.busy": "2024-03-28T12:32:59.717408Z",
     "iopub.status.idle": "2024-03-28T12:37:13.616489Z",
     "shell.execute_reply": "2024-03-28T12:37:13.615812Z"
    }
   },
   "outputs": [],
   "source": [
    "with open('res_bc_Cogent_agemoea2.pkl','rb') as f_Cogent:\n",
    "    res_Cogent = pickle.load(f_Cogent)\n",
    "with open('res_bc_UsCarrier_agemoea2.pkl','rb') as f_UsCarrier:\n",
    "    res_UsCarrier = pickle.load(f_UsCarrier)\n",
    "with open('res_bc_HiberniaGlobal_agemoea2.pkl','rb') as f_HiberniaGlobal:\n",
    "    res_HiberniaGlobal = pickle.load(f_HiberniaGlobal)\n",
    "with open('res_bc_Colt_agemoea2.pkl','rb') as f_Colt:\n",
    "    res_Colt = pickle.load(f_Colt)\n",
    "with open('res_bc_Funet_agemoea2.pkl','rb') as f_Funet:\n",
    "    res_Funet = pickle.load(f_Funet)\n",
    "with open('res_bc_Abvt_agemoea2.pkl','rb') as f_Abvt:\n",
    "    res_Abvt = pickle.load(f_Abvt)\n",
    "with open('res_bc_Intellifiber_agemoea2.pkl','rb') as f_Intellifiber:\n",
    "    res_Intellifiber = pickle.load(f_Intellifiber)\n",
    "with open('res_bc_TataNld_agemoea2.pkl','rb') as f_TataNld:\n",
    "    res_TataNld = pickle.load(f_TataNld)\n",
    "with open('res_bc_Internode_agemoea2.pkl','rb') as f_Internode:\n",
    "    res_Internode = pickle.load(f_Internode)\n",
    "with open('res_bc_Missouri_agemoea2.pkl','rb') as f_Missouri:\n",
    "    res_Missouri = pickle.load(f_Missouri)\n",
    "with open('res_bc_Ion_agemoea2.pkl','rb') as f_Ion:\n",
    "    res_Ion = pickle.load(f_Ion)\n",
    "with open('res_bc_Palmetto_agemoea2.pkl','rb') as f_Palmetto:\n",
    "    res_Palmetto = pickle.load(f_Palmetto)"
   ]
  },
  {
   "cell_type": "code",
   "execution_count": 13,
   "id": "1dedc5c2",
   "metadata": {
    "execution": {
     "iopub.execute_input": "2024-03-28T12:37:13.628490Z",
     "iopub.status.busy": "2024-03-28T12:37:13.627680Z",
     "iopub.status.idle": "2024-03-28T12:37:13.634692Z",
     "shell.execute_reply": "2024-03-28T12:37:13.634242Z"
    }
   },
   "outputs": [
    {
     "name": "stdout",
     "output_type": "stream",
     "text": [
      "The amount of solutions (Cogent):  100\n",
      "The amount of solutions (UsCarrier):  100\n",
      "The amount of solutions (HiberniaGlobal):  100\n",
      "The amount of solutions (Colt):  100\n",
      "The amount of solutions (Funet):  100\n",
      "The amount of solutions (Abvt):  100\n",
      "The amount of solutions (Intellifiber):  100\n",
      "The amount of solutions (TataNld):  100\n",
      "The amount of solutions (Internode):  100\n",
      "The amount of solutions (Missouri):  100\n",
      "The amount of solutions (Ion):  100\n",
      "The amount of solutions (Palmetto):  100\n"
     ]
    }
   ],
   "source": [
    "F_Cogent = res_Cogent.F\n",
    "F_UsCarrier = res_UsCarrier.F\n",
    "F_HiberniaGlobal = res_HiberniaGlobal.F\n",
    "F_Colt = res_Colt.F\n",
    "F_Funet = res_Funet.F\n",
    "F_Abvt = res_Abvt.F\n",
    "F_Intellifiber = res_Intellifiber.F\n",
    "F_TataNld = res_TataNld.F\n",
    "F_Internode = res_Internode.F\n",
    "F_Missouri = res_Missouri.F\n",
    "F_Ion = res_Ion.F\n",
    "F_Palmetto = res_Palmetto.F\n",
    "\n",
    "print('The amount of solutions (Cogent): ', len(F_Cogent))\n",
    "print('The amount of solutions (UsCarrier): ', len(F_UsCarrier))\n",
    "print('The amount of solutions (HiberniaGlobal): ', len(F_HiberniaGlobal))\n",
    "print('The amount of solutions (Colt): ', len(F_Colt))\n",
    "print('The amount of solutions (Funet): ', len(F_Funet))\n",
    "print('The amount of solutions (Abvt): ', len(F_Abvt))\n",
    "print('The amount of solutions (Intellifiber): ', len(F_Intellifiber))\n",
    "print('The amount of solutions (TataNld): ', len(F_TataNld))\n",
    "print('The amount of solutions (Internode): ', len(F_Internode))\n",
    "print('The amount of solutions (Missouri): ', len(F_Missouri))\n",
    "print('The amount of solutions (Ion): ', len(F_Ion))\n",
    "print('The amount of solutions (Palmetto): ', len(F_Palmetto))"
   ]
  },
  {
   "cell_type": "markdown",
   "id": "d99101a9",
   "metadata": {},
   "source": [
    "## Load nsga2 results"
   ]
  },
  {
   "cell_type": "code",
   "execution_count": 14,
   "id": "38f58e87",
   "metadata": {
    "execution": {
     "iopub.execute_input": "2024-03-28T12:37:13.637488Z",
     "iopub.status.busy": "2024-03-28T12:37:13.636735Z",
     "iopub.status.idle": "2024-03-28T12:42:16.006965Z",
     "shell.execute_reply": "2024-03-28T12:42:16.006312Z"
    }
   },
   "outputs": [],
   "source": [
    "with open('res_bc_Cogent_nsga2.pkl','rb') as f_Cogent:\n",
    "    res_Cogent = pickle.load(f_Cogent)\n",
    "with open('res_bc_UsCarrier_nsga2.pkl','rb') as f_UsCarrier:\n",
    "    res_UsCarrier = pickle.load(f_UsCarrier)\n",
    "with open('res_bc_HiberniaGlobal_nsga2.pkl','rb') as f_HiberniaGlobal:\n",
    "    res_HiberniaGlobal = pickle.load(f_HiberniaGlobal)\n",
    "with open('res_bc_Colt_nsga2.pkl','rb') as f_Colt:\n",
    "    res_Colt = pickle.load(f_Colt)\n",
    "with open('res_bc_Funet_nsga2.pkl','rb') as f_Funet:\n",
    "    res_Funet = pickle.load(f_Funet)\n",
    "with open('res_bc_Abvt_nsga2.pkl','rb') as f_Abvt:\n",
    "    res_Abvt = pickle.load(f_Abvt)\n",
    "with open('res_bc_Intellifiber_nsga2.pkl','rb') as f_Intellifiber:\n",
    "    res_Intellifiber = pickle.load(f_Intellifiber)\n",
    "with open('res_bc_TataNld_nsga2.pkl','rb') as f_TataNld:\n",
    "    res_TataNld = pickle.load(f_TataNld)\n",
    "with open('res_bc_Internode_nsga2.pkl','rb') as f_Internode:\n",
    "    res_Internode = pickle.load(f_Internode)\n",
    "with open('res_bc_Missouri_nsga2.pkl','rb') as f_Missouri:\n",
    "    res_Missouri = pickle.load(f_Missouri)\n",
    "with open('res_bc_Ion_nsga2.pkl','rb') as f_Ion:\n",
    "    res_Ion = pickle.load(f_Ion)\n",
    "with open('res_bc_Palmetto_nsga2.pkl','rb') as f_Palmetto:\n",
    "    res_Palmetto = pickle.load(f_Palmetto)"
   ]
  },
  {
   "cell_type": "code",
   "execution_count": 15,
   "id": "27da9b9d",
   "metadata": {
    "execution": {
     "iopub.execute_input": "2024-03-28T12:42:16.019971Z",
     "iopub.status.busy": "2024-03-28T12:42:16.019147Z",
     "iopub.status.idle": "2024-03-28T12:42:16.026607Z",
     "shell.execute_reply": "2024-03-28T12:42:16.025764Z"
    }
   },
   "outputs": [
    {
     "name": "stdout",
     "output_type": "stream",
     "text": [
      "The amount of solutions (Cogent):  100\n",
      "The amount of solutions (UsCarrier):  100\n",
      "The amount of solutions (HiberniaGlobal):  100\n",
      "The amount of solutions (Colt):  100\n",
      "The amount of solutions (Funet):  100\n",
      "The amount of solutions (Abvt):  100\n",
      "The amount of solutions (Intellifiber):  100\n",
      "The amount of solutions (TataNld):  100\n",
      "The amount of solutions (Internode):  100\n",
      "The amount of solutions (Missouri):  100\n",
      "The amount of solutions (Ion):  100\n",
      "The amount of solutions (Palmetto):  100\n"
     ]
    }
   ],
   "source": [
    "F_Cogent = res_Cogent.F\n",
    "F_UsCarrier = res_UsCarrier.F\n",
    "F_HiberniaGlobal = res_HiberniaGlobal.F\n",
    "F_Colt = res_Colt.F\n",
    "F_Funet = res_Funet.F\n",
    "F_Abvt = res_Abvt.F\n",
    "F_Intellifiber = res_Intellifiber.F\n",
    "F_TataNld = res_TataNld.F\n",
    "F_Internode = res_Internode.F\n",
    "F_Missouri = res_Missouri.F\n",
    "F_Ion = res_Ion.F\n",
    "F_Palmetto = res_Palmetto.F\n",
    "\n",
    "print('The amount of solutions (Cogent): ', len(F_Cogent))\n",
    "print('The amount of solutions (UsCarrier): ', len(F_UsCarrier))\n",
    "print('The amount of solutions (HiberniaGlobal): ', len(F_HiberniaGlobal))\n",
    "print('The amount of solutions (Colt): ', len(F_Colt))\n",
    "print('The amount of solutions (Funet): ', len(F_Funet))\n",
    "print('The amount of solutions (Abvt): ', len(F_Abvt))\n",
    "print('The amount of solutions (Intellifiber): ', len(F_Intellifiber))\n",
    "print('The amount of solutions (TataNld): ', len(F_TataNld))\n",
    "print('The amount of solutions (Internode): ', len(F_Internode))\n",
    "print('The amount of solutions (Missouri): ', len(F_Missouri))\n",
    "print('The amount of solutions (Ion): ', len(F_Ion))\n",
    "print('The amount of solutions (Palmetto): ', len(F_Palmetto))"
   ]
  },
  {
   "cell_type": "markdown",
   "id": "301acaad",
   "metadata": {},
   "source": [
    "## Load nsga3 results"
   ]
  },
  {
   "cell_type": "code",
   "execution_count": 16,
   "id": "47cce1c3",
   "metadata": {
    "execution": {
     "iopub.execute_input": "2024-03-28T12:42:16.029413Z",
     "iopub.status.busy": "2024-03-28T12:42:16.028665Z",
     "iopub.status.idle": "2024-03-28T12:45:58.899666Z",
     "shell.execute_reply": "2024-03-28T12:45:58.899156Z"
    }
   },
   "outputs": [],
   "source": [
    "with open('res_bc_Cogent_nsga3.pkl','rb') as f_Cogent:\n",
    "    res_Cogent = pickle.load(f_Cogent)\n",
    "with open('res_bc_UsCarrier_nsga3.pkl','rb') as f_UsCarrier:\n",
    "    res_UsCarrier = pickle.load(f_UsCarrier)\n",
    "with open('res_bc_HiberniaGlobal_nsga3.pkl','rb') as f_HiberniaGlobal:\n",
    "    res_HiberniaGlobal = pickle.load(f_HiberniaGlobal)\n",
    "with open('res_bc_Colt_nsga3.pkl','rb') as f_Colt:\n",
    "    res_Colt = pickle.load(f_Colt)\n",
    "with open('res_bc_Funet_nsga3.pkl','rb') as f_Funet:\n",
    "    res_Funet = pickle.load(f_Funet)\n",
    "with open('res_bc_Abvt_nsga3.pkl','rb') as f_Abvt:\n",
    "    res_Abvt = pickle.load(f_Abvt)\n",
    "with open('res_bc_Intellifiber_nsga3.pkl','rb') as f_Intellifiber:\n",
    "    res_Intellifiber = pickle.load(f_Intellifiber)\n",
    "with open('res_bc_TataNld_nsga3.pkl','rb') as f_TataNld:\n",
    "    res_TataNld = pickle.load(f_TataNld)\n",
    "with open('res_bc_Internode_nsga3.pkl','rb') as f_Internode:\n",
    "    res_Internode = pickle.load(f_Internode)\n",
    "with open('res_bc_Missouri_nsga3.pkl','rb') as f_Missouri:\n",
    "    res_Missouri = pickle.load(f_Missouri)\n",
    "with open('res_bc_Ion_nsga3.pkl','rb') as f_Ion:\n",
    "    res_Ion = pickle.load(f_Ion)\n",
    "with open('res_bc_Palmetto_nsga3.pkl','rb') as f_Palmetto:\n",
    "    res_Palmetto = pickle.load(f_Palmetto)"
   ]
  },
  {
   "cell_type": "code",
   "execution_count": 17,
   "id": "d34bb07b",
   "metadata": {
    "execution": {
     "iopub.execute_input": "2024-03-28T12:45:58.942580Z",
     "iopub.status.busy": "2024-03-28T12:45:58.941745Z",
     "iopub.status.idle": "2024-03-28T12:45:58.948984Z",
     "shell.execute_reply": "2024-03-28T12:45:58.948387Z"
    }
   },
   "outputs": [
    {
     "name": "stdout",
     "output_type": "stream",
     "text": [
      "The amount of solutions (Cogent):  83\n",
      "The amount of solutions (UsCarrier):  75\n",
      "The amount of solutions (HiberniaGlobal):  42\n",
      "The amount of solutions (Colt):  63\n",
      "The amount of solutions (Funet):  42\n",
      "The amount of solutions (Abvt):  23\n",
      "The amount of solutions (Intellifiber):  52\n",
      "The amount of solutions (TataNld):  78\n",
      "The amount of solutions (Internode):  22\n",
      "The amount of solutions (Missouri):  43\n",
      "The amount of solutions (Ion):  82\n",
      "The amount of solutions (Palmetto):  36\n"
     ]
    }
   ],
   "source": [
    "F_Cogent = res_Cogent.F\n",
    "F_UsCarrier = res_UsCarrier.F\n",
    "F_HiberniaGlobal = res_HiberniaGlobal.F\n",
    "F_Colt = res_Colt.F\n",
    "F_Funet = res_Funet.F\n",
    "F_Abvt = res_Abvt.F\n",
    "F_Intellifiber = res_Intellifiber.F\n",
    "F_TataNld = res_TataNld.F\n",
    "F_Internode = res_Internode.F\n",
    "F_Missouri = res_Missouri.F\n",
    "F_Ion = res_Ion.F\n",
    "F_Palmetto = res_Palmetto.F\n",
    "\n",
    "print('The amount of solutions (Cogent): ', len(F_Cogent))\n",
    "print('The amount of solutions (UsCarrier): ', len(F_UsCarrier))\n",
    "print('The amount of solutions (HiberniaGlobal): ', len(F_HiberniaGlobal))\n",
    "print('The amount of solutions (Colt): ', len(F_Colt))\n",
    "print('The amount of solutions (Funet): ', len(F_Funet))\n",
    "print('The amount of solutions (Abvt): ', len(F_Abvt))\n",
    "print('The amount of solutions (Intellifiber): ', len(F_Intellifiber))\n",
    "print('The amount of solutions (TataNld): ', len(F_TataNld))\n",
    "print('The amount of solutions (Internode): ', len(F_Internode))\n",
    "print('The amount of solutions (Missouri): ', len(F_Missouri))\n",
    "print('The amount of solutions (Ion): ', len(F_Ion))\n",
    "print('The amount of solutions (Palmetto): ', len(F_Palmetto))"
   ]
  },
  {
   "cell_type": "markdown",
   "id": "3153bca9",
   "metadata": {},
   "source": [
    "## Load rnsga2 results"
   ]
  },
  {
   "cell_type": "code",
   "execution_count": 18,
   "id": "d8cd181a",
   "metadata": {
    "execution": {
     "iopub.execute_input": "2024-03-28T12:45:58.951866Z",
     "iopub.status.busy": "2024-03-28T12:45:58.951117Z",
     "iopub.status.idle": "2024-03-28T12:51:42.772982Z",
     "shell.execute_reply": "2024-03-28T12:51:42.772331Z"
    }
   },
   "outputs": [],
   "source": [
    "with open('res_bc_Cogent_rnsga2.pkl','rb') as f_Cogent:\n",
    "    res_Cogent = pickle.load(f_Cogent)\n",
    "with open('res_bc_UsCarrier_rnsga2.pkl','rb') as f_UsCarrier:\n",
    "    res_UsCarrier = pickle.load(f_UsCarrier)\n",
    "with open('res_bc_HiberniaGlobal_rnsga2.pkl','rb') as f_HiberniaGlobal:\n",
    "    res_HiberniaGlobal = pickle.load(f_HiberniaGlobal)\n",
    "with open('res_bc_Colt_rnsga2.pkl','rb') as f_Colt:\n",
    "    res_Colt = pickle.load(f_Colt)\n",
    "with open('res_bc_Funet_rnsga2.pkl','rb') as f_Funet:\n",
    "    res_Funet = pickle.load(f_Funet)\n",
    "with open('res_bc_Abvt_rnsga2.pkl','rb') as f_Abvt:\n",
    "    res_Abvt = pickle.load(f_Abvt)\n",
    "with open('res_bc_Intellifiber_rnsga2.pkl','rb') as f_Intellifiber:\n",
    "    res_Intellifiber = pickle.load(f_Intellifiber)\n",
    "with open('res_bc_TataNld_rnsga2.pkl','rb') as f_TataNld:\n",
    "    res_TataNld = pickle.load(f_TataNld)\n",
    "with open('res_bc_Internode_rnsga2.pkl','rb') as f_Internode:\n",
    "    res_Internode = pickle.load(f_Internode)\n",
    "with open('res_bc_Missouri_rnsga2.pkl','rb') as f_Missouri:\n",
    "    res_Missouri = pickle.load(f_Missouri)\n",
    "with open('res_bc_Ion_rnsga2.pkl','rb') as f_Ion:\n",
    "    res_Ion = pickle.load(f_Ion)\n",
    "with open('res_bc_Palmetto_rnsga2.pkl','rb') as f_Palmetto:\n",
    "    res_Palmetto = pickle.load(f_Palmetto)"
   ]
  },
  {
   "cell_type": "code",
   "execution_count": 19,
   "id": "92122a92",
   "metadata": {
    "execution": {
     "iopub.execute_input": "2024-03-28T12:51:42.788075Z",
     "iopub.status.busy": "2024-03-28T12:51:42.787242Z",
     "iopub.status.idle": "2024-03-28T12:51:42.794484Z",
     "shell.execute_reply": "2024-03-28T12:51:42.793867Z"
    }
   },
   "outputs": [
    {
     "name": "stdout",
     "output_type": "stream",
     "text": [
      "The amount of solutions (Cogent):  100\n",
      "The amount of solutions (UsCarrier):  100\n",
      "The amount of solutions (HiberniaGlobal):  100\n",
      "The amount of solutions (Colt):  100\n",
      "The amount of solutions (Funet):  100\n",
      "The amount of solutions (Abvt):  100\n",
      "The amount of solutions (Intellifiber):  100\n",
      "The amount of solutions (TataNld):  100\n",
      "The amount of solutions (Internode):  100\n",
      "The amount of solutions (Missouri):  100\n",
      "The amount of solutions (Ion):  100\n",
      "The amount of solutions (Palmetto):  100\n"
     ]
    }
   ],
   "source": [
    "F_Cogent = res_Cogent.F\n",
    "F_UsCarrier = res_UsCarrier.F\n",
    "F_HiberniaGlobal = res_HiberniaGlobal.F\n",
    "F_Colt = res_Colt.F\n",
    "F_Funet = res_Funet.F\n",
    "F_Abvt = res_Abvt.F\n",
    "F_Intellifiber = res_Intellifiber.F\n",
    "F_TataNld = res_TataNld.F\n",
    "F_Internode = res_Internode.F\n",
    "F_Missouri = res_Missouri.F\n",
    "F_Ion = res_Ion.F\n",
    "F_Palmetto = res_Palmetto.F\n",
    "\n",
    "print('The amount of solutions (Cogent): ', len(F_Cogent))\n",
    "print('The amount of solutions (UsCarrier): ', len(F_UsCarrier))\n",
    "print('The amount of solutions (HiberniaGlobal): ', len(F_HiberniaGlobal))\n",
    "print('The amount of solutions (Colt): ', len(F_Colt))\n",
    "print('The amount of solutions (Funet): ', len(F_Funet))\n",
    "print('The amount of solutions (Abvt): ', len(F_Abvt))\n",
    "print('The amount of solutions (Intellifiber): ', len(F_Intellifiber))\n",
    "print('The amount of solutions (TataNld): ', len(F_TataNld))\n",
    "print('The amount of solutions (Internode): ', len(F_Internode))\n",
    "print('The amount of solutions (Missouri): ', len(F_Missouri))\n",
    "print('The amount of solutions (Ion): ', len(F_Ion))\n",
    "print('The amount of solutions (Palmetto): ', len(F_Palmetto))"
   ]
  },
  {
   "cell_type": "markdown",
   "id": "e594055f",
   "metadata": {},
   "source": [
    "## Load rnsga3 results"
   ]
  },
  {
   "cell_type": "code",
   "execution_count": 20,
   "id": "58d1beda",
   "metadata": {
    "execution": {
     "iopub.execute_input": "2024-03-28T12:51:42.797310Z",
     "iopub.status.busy": "2024-03-28T12:51:42.796562Z",
     "iopub.status.idle": "2024-03-28T12:55:46.398051Z",
     "shell.execute_reply": "2024-03-28T12:55:46.390435Z"
    }
   },
   "outputs": [],
   "source": [
    "with open('res_bc_Cogent_rnsga3.pkl','rb') as f_Cogent:\n",
    "    res_Cogent = pickle.load(f_Cogent)\n",
    "with open('res_bc_UsCarrier_rnsga3.pkl','rb') as f_UsCarrier:\n",
    "    res_UsCarrier = pickle.load(f_UsCarrier)\n",
    "with open('res_bc_HiberniaGlobal_rnsga3.pkl','rb') as f_HiberniaGlobal:\n",
    "    res_HiberniaGlobal = pickle.load(f_HiberniaGlobal)\n",
    "with open('res_bc_Colt_rnsga3.pkl','rb') as f_Colt:\n",
    "    res_Colt = pickle.load(f_Colt)\n",
    "with open('res_bc_Funet_rnsga3.pkl','rb') as f_Funet:\n",
    "    res_Funet = pickle.load(f_Funet)\n",
    "with open('res_bc_Abvt_rnsga3.pkl','rb') as f_Abvt:\n",
    "    res_Abvt = pickle.load(f_Abvt)\n",
    "with open('res_bc_Intellifiber_rnsga3.pkl','rb') as f_Intellifiber:\n",
    "    res_Intellifiber = pickle.load(f_Intellifiber)\n",
    "with open('res_bc_TataNld_rnsga3.pkl','rb') as f_TataNld:\n",
    "    res_TataNld = pickle.load(f_TataNld)\n",
    "with open('res_bc_Internode_rnsga3.pkl','rb') as f_Internode:\n",
    "    res_Internode = pickle.load(f_Internode)\n",
    "with open('res_bc_Missouri_rnsga3.pkl','rb') as f_Missouri:\n",
    "    res_Missouri = pickle.load(f_Missouri)\n",
    "with open('res_bc_Ion_rnsga3.pkl','rb') as f_Ion:\n",
    "    res_Ion = pickle.load(f_Ion)\n",
    "with open('res_bc_Palmetto_rnsga3.pkl','rb') as f_Palmetto:\n",
    "    res_Palmetto = pickle.load(f_Palmetto)"
   ]
  },
  {
   "cell_type": "code",
   "execution_count": 21,
   "id": "16e544f2",
   "metadata": {
    "execution": {
     "iopub.execute_input": "2024-03-28T12:55:46.488192Z",
     "iopub.status.busy": "2024-03-28T12:55:46.487363Z",
     "iopub.status.idle": "2024-03-28T12:55:46.494674Z",
     "shell.execute_reply": "2024-03-28T12:55:46.494249Z"
    }
   },
   "outputs": [
    {
     "name": "stdout",
     "output_type": "stream",
     "text": [
      "The amount of solutions (Cogent):  2\n",
      "The amount of solutions (UsCarrier):  3\n",
      "The amount of solutions (HiberniaGlobal):  4\n",
      "The amount of solutions (Colt):  3\n",
      "The amount of solutions (Funet):  5\n",
      "The amount of solutions (Abvt):  5\n",
      "The amount of solutions (Intellifiber):  3\n",
      "The amount of solutions (TataNld):  3\n",
      "The amount of solutions (Internode):  4\n",
      "The amount of solutions (Missouri):  5\n",
      "The amount of solutions (Ion):  4\n",
      "The amount of solutions (Palmetto):  4\n"
     ]
    }
   ],
   "source": [
    "F_Cogent = res_Cogent.F\n",
    "F_UsCarrier = res_UsCarrier.F\n",
    "F_HiberniaGlobal = res_HiberniaGlobal.F\n",
    "F_Colt = res_Colt.F\n",
    "F_Funet = res_Funet.F\n",
    "F_Abvt = res_Abvt.F\n",
    "F_Intellifiber = res_Intellifiber.F\n",
    "F_TataNld = res_TataNld.F\n",
    "F_Internode = res_Internode.F\n",
    "F_Missouri = res_Missouri.F\n",
    "F_Ion = res_Ion.F\n",
    "F_Palmetto = res_Palmetto.F\n",
    "\n",
    "print('The amount of solutions (Cogent): ', len(F_Cogent))\n",
    "print('The amount of solutions (UsCarrier): ', len(F_UsCarrier))\n",
    "print('The amount of solutions (HiberniaGlobal): ', len(F_HiberniaGlobal))\n",
    "print('The amount of solutions (Colt): ', len(F_Colt))\n",
    "print('The amount of solutions (Funet): ', len(F_Funet))\n",
    "print('The amount of solutions (Abvt): ', len(F_Abvt))\n",
    "print('The amount of solutions (Intellifiber): ', len(F_Intellifiber))\n",
    "print('The amount of solutions (TataNld): ', len(F_TataNld))\n",
    "print('The amount of solutions (Internode): ', len(F_Internode))\n",
    "print('The amount of solutions (Missouri): ', len(F_Missouri))\n",
    "print('The amount of solutions (Ion): ', len(F_Ion))\n",
    "print('The amount of solutions (Palmetto): ', len(F_Palmetto))"
   ]
  },
  {
   "cell_type": "markdown",
   "id": "32c45fdd",
   "metadata": {},
   "source": [
    "## Load rvea results"
   ]
  },
  {
   "cell_type": "code",
   "execution_count": 22,
   "id": "6189e7fb",
   "metadata": {
    "execution": {
     "iopub.execute_input": "2024-03-28T12:55:46.497498Z",
     "iopub.status.busy": "2024-03-28T12:55:46.496745Z",
     "iopub.status.idle": "2024-03-28T13:02:30.205286Z",
     "shell.execute_reply": "2024-03-28T13:02:30.204583Z"
    }
   },
   "outputs": [],
   "source": [
    "with open('res_bc_Cogent_rvea.pkl','rb') as f_Cogent:\n",
    "    res_Cogent = pickle.load(f_Cogent)\n",
    "with open('res_bc_UsCarrier_rvea.pkl','rb') as f_UsCarrier:\n",
    "    res_UsCarrier = pickle.load(f_UsCarrier)\n",
    "with open('res_bc_HiberniaGlobal_rvea.pkl','rb') as f_HiberniaGlobal:\n",
    "    res_HiberniaGlobal = pickle.load(f_HiberniaGlobal)\n",
    "with open('res_bc_Colt_rvea.pkl','rb') as f_Colt:\n",
    "    res_Colt = pickle.load(f_Colt)\n",
    "with open('res_bc_Funet_rvea.pkl','rb') as f_Funet:\n",
    "    res_Funet = pickle.load(f_Funet)\n",
    "with open('res_bc_Abvt_rvea.pkl','rb') as f_Abvt:\n",
    "    res_Abvt = pickle.load(f_Abvt)\n",
    "with open('res_bc_Intellifiber_rvea.pkl','rb') as f_Intellifiber:\n",
    "    res_Intellifiber = pickle.load(f_Intellifiber)\n",
    "with open('res_bc_TataNld_rvea.pkl','rb') as f_TataNld:\n",
    "    res_TataNld = pickle.load(f_TataNld)\n",
    "with open('res_bc_Internode_rvea.pkl','rb') as f_Internode:\n",
    "    res_Internode = pickle.load(f_Internode)\n",
    "with open('res_bc_Missouri_rvea.pkl','rb') as f_Missouri:\n",
    "    res_Missouri = pickle.load(f_Missouri)\n",
    "with open('res_bc_Ion_rvea.pkl','rb') as f_Ion:\n",
    "    res_Ion = pickle.load(f_Ion)\n",
    "with open('res_bc_Palmetto_rvea.pkl','rb') as f_Palmetto:\n",
    "    res_Palmetto = pickle.load(f_Palmetto)"
   ]
  },
  {
   "cell_type": "code",
   "execution_count": 23,
   "id": "e1ce9991",
   "metadata": {
    "execution": {
     "iopub.execute_input": "2024-03-28T13:02:30.220882Z",
     "iopub.status.busy": "2024-03-28T13:02:30.220040Z",
     "iopub.status.idle": "2024-03-28T13:02:30.227378Z",
     "shell.execute_reply": "2024-03-28T13:02:30.226709Z"
    }
   },
   "outputs": [
    {
     "name": "stdout",
     "output_type": "stream",
     "text": [
      "The amount of solutions (Cogent):  165\n",
      "The amount of solutions (UsCarrier):  165\n",
      "The amount of solutions (HiberniaGlobal):  165\n",
      "The amount of solutions (Colt):  165\n",
      "The amount of solutions (Funet):  165\n",
      "The amount of solutions (Abvt):  165\n",
      "The amount of solutions (Intellifiber):  165\n",
      "The amount of solutions (TataNld):  165\n",
      "The amount of solutions (Internode):  165\n",
      "The amount of solutions (Missouri):  165\n",
      "The amount of solutions (Ion):  165\n",
      "The amount of solutions (Palmetto):  165\n"
     ]
    }
   ],
   "source": [
    "F_Cogent = res_Cogent.F\n",
    "F_UsCarrier = res_UsCarrier.F\n",
    "F_HiberniaGlobal = res_HiberniaGlobal.F\n",
    "F_Colt = res_Colt.F\n",
    "F_Funet = res_Funet.F\n",
    "F_Abvt = res_Abvt.F\n",
    "F_Intellifiber = res_Intellifiber.F\n",
    "F_TataNld = res_TataNld.F\n",
    "F_Internode = res_Internode.F\n",
    "F_Missouri = res_Missouri.F\n",
    "F_Ion = res_Ion.F\n",
    "F_Palmetto = res_Palmetto.F\n",
    "\n",
    "print('The amount of solutions (Cogent): ', len(F_Cogent))\n",
    "print('The amount of solutions (UsCarrier): ', len(F_UsCarrier))\n",
    "print('The amount of solutions (HiberniaGlobal): ', len(F_HiberniaGlobal))\n",
    "print('The amount of solutions (Colt): ', len(F_Colt))\n",
    "print('The amount of solutions (Funet): ', len(F_Funet))\n",
    "print('The amount of solutions (Abvt): ', len(F_Abvt))\n",
    "print('The amount of solutions (Intellifiber): ', len(F_Intellifiber))\n",
    "print('The amount of solutions (TataNld): ', len(F_TataNld))\n",
    "print('The amount of solutions (Internode): ', len(F_Internode))\n",
    "print('The amount of solutions (Missouri): ', len(F_Missouri))\n",
    "print('The amount of solutions (Ion): ', len(F_Ion))\n",
    "print('The amount of solutions (Palmetto): ', len(F_Palmetto))"
   ]
  },
  {
   "cell_type": "markdown",
   "id": "3ed6ae39",
   "metadata": {},
   "source": [
    "## Load smsemoa results"
   ]
  },
  {
   "cell_type": "code",
   "execution_count": 24,
   "id": "8fdf0fe1",
   "metadata": {
    "execution": {
     "iopub.execute_input": "2024-03-28T13:02:30.230183Z",
     "iopub.status.busy": "2024-03-28T13:02:30.229438Z",
     "iopub.status.idle": "2024-03-28T13:07:54.716382Z",
     "shell.execute_reply": "2024-03-28T13:07:54.715602Z"
    }
   },
   "outputs": [],
   "source": [
    "with open('res_bc_Cogent_smsemoa.pkl','rb') as f_Cogent:\n",
    "    res_Cogent = pickle.load(f_Cogent)\n",
    "with open('res_bc_UsCarrier_smsemoa.pkl','rb') as f_UsCarrier:\n",
    "    res_UsCarrier = pickle.load(f_UsCarrier)\n",
    "with open('res_bc_HiberniaGlobal_smsemoa.pkl','rb') as f_HiberniaGlobal:\n",
    "    res_HiberniaGlobal = pickle.load(f_HiberniaGlobal)\n",
    "with open('res_bc_Colt_smsemoa.pkl','rb') as f_Colt:\n",
    "    res_Colt = pickle.load(f_Colt)\n",
    "with open('res_bc_Funet_smsemoa.pkl','rb') as f_Funet:\n",
    "    res_Funet = pickle.load(f_Funet)\n",
    "with open('res_bc_Abvt_smsemoa.pkl','rb') as f_Abvt:\n",
    "    res_Abvt = pickle.load(f_Abvt)\n",
    "with open('res_bc_Intellifiber_smsemoa.pkl','rb') as f_Intellifiber:\n",
    "    res_Intellifiber = pickle.load(f_Intellifiber)\n",
    "with open('res_bc_TataNld_smsemoa.pkl','rb') as f_TataNld:\n",
    "    res_TataNld = pickle.load(f_TataNld)\n",
    "with open('res_bc_Internode_smsemoa.pkl','rb') as f_Internode:\n",
    "    res_Internode = pickle.load(f_Internode)\n",
    "with open('res_bc_Missouri_smsemoa.pkl','rb') as f_Missouri:\n",
    "    res_Missouri = pickle.load(f_Missouri)\n",
    "with open('res_bc_Ion_smsemoa.pkl','rb') as f_Ion:\n",
    "    res_Ion = pickle.load(f_Ion)\n",
    "with open('res_bc_Palmetto_smsemoa.pkl','rb') as f_Palmetto:\n",
    "    res_Palmetto = pickle.load(f_Palmetto)"
   ]
  },
  {
   "cell_type": "code",
   "execution_count": 25,
   "id": "aee1b3de",
   "metadata": {
    "execution": {
     "iopub.execute_input": "2024-03-28T13:07:54.759573Z",
     "iopub.status.busy": "2024-03-28T13:07:54.758739Z",
     "iopub.status.idle": "2024-03-28T13:07:54.765819Z",
     "shell.execute_reply": "2024-03-28T13:07:54.765447Z"
    }
   },
   "outputs": [
    {
     "name": "stdout",
     "output_type": "stream",
     "text": [
      "The amount of solutions (Cogent):  100\n",
      "The amount of solutions (UsCarrier):  100\n",
      "The amount of solutions (HiberniaGlobal):  100\n",
      "The amount of solutions (Colt):  100\n",
      "The amount of solutions (Funet):  100\n",
      "The amount of solutions (Abvt):  100\n",
      "The amount of solutions (Intellifiber):  100\n",
      "The amount of solutions (TataNld):  100\n",
      "The amount of solutions (Internode):  100\n",
      "The amount of solutions (Missouri):  100\n",
      "The amount of solutions (Ion):  100\n",
      "The amount of solutions (Palmetto):  100\n"
     ]
    }
   ],
   "source": [
    "F_Cogent = res_Cogent.F\n",
    "F_UsCarrier = res_UsCarrier.F\n",
    "F_HiberniaGlobal = res_HiberniaGlobal.F\n",
    "F_Colt = res_Colt.F\n",
    "F_Funet = res_Funet.F\n",
    "F_Abvt = res_Abvt.F\n",
    "F_Intellifiber = res_Intellifiber.F\n",
    "F_TataNld = res_TataNld.F\n",
    "F_Internode = res_Internode.F\n",
    "F_Missouri = res_Missouri.F\n",
    "F_Ion = res_Ion.F\n",
    "F_Palmetto = res_Palmetto.F\n",
    "\n",
    "print('The amount of solutions (Cogent): ', len(F_Cogent))\n",
    "print('The amount of solutions (UsCarrier): ', len(F_UsCarrier))\n",
    "print('The amount of solutions (HiberniaGlobal): ', len(F_HiberniaGlobal))\n",
    "print('The amount of solutions (Colt): ', len(F_Colt))\n",
    "print('The amount of solutions (Funet): ', len(F_Funet))\n",
    "print('The amount of solutions (Abvt): ', len(F_Abvt))\n",
    "print('The amount of solutions (Intellifiber): ', len(F_Intellifiber))\n",
    "print('The amount of solutions (TataNld): ', len(F_TataNld))\n",
    "print('The amount of solutions (Internode): ', len(F_Internode))\n",
    "print('The amount of solutions (Missouri): ', len(F_Missouri))\n",
    "print('The amount of solutions (Ion): ', len(F_Ion))\n",
    "print('The amount of solutions (Palmetto): ', len(F_Palmetto))"
   ]
  },
  {
   "cell_type": "markdown",
   "id": "78878dd7",
   "metadata": {},
   "source": [
    "## Load unsga3 results"
   ]
  },
  {
   "cell_type": "code",
   "execution_count": 26,
   "id": "d98c8126",
   "metadata": {
    "execution": {
     "iopub.execute_input": "2024-03-28T13:07:54.768624Z",
     "iopub.status.busy": "2024-03-28T13:07:54.767885Z",
     "iopub.status.idle": "2024-03-28T13:12:31.216831Z",
     "shell.execute_reply": "2024-03-28T13:12:31.216100Z"
    }
   },
   "outputs": [],
   "source": [
    "with open('res_bc_Cogent_unsga3.pkl','rb') as f_Cogent:\n",
    "    res_Cogent = pickle.load(f_Cogent)\n",
    "with open('res_bc_UsCarrier_unsga3.pkl','rb') as f_UsCarrier:\n",
    "    res_UsCarrier = pickle.load(f_UsCarrier)\n",
    "with open('res_bc_HiberniaGlobal_unsga3.pkl','rb') as f_HiberniaGlobal:\n",
    "    res_HiberniaGlobal = pickle.load(f_HiberniaGlobal)\n",
    "with open('res_bc_Colt_unsga3.pkl','rb') as f_Colt:\n",
    "    res_Colt = pickle.load(f_Colt)\n",
    "with open('res_bc_Funet_unsga3.pkl','rb') as f_Funet:\n",
    "    res_Funet = pickle.load(f_Funet)\n",
    "with open('res_bc_Abvt_unsga3.pkl','rb') as f_Abvt:\n",
    "    res_Abvt = pickle.load(f_Abvt)\n",
    "with open('res_bc_Intellifiber_unsga3.pkl','rb') as f_Intellifiber:\n",
    "    res_Intellifiber = pickle.load(f_Intellifiber)\n",
    "with open('res_bc_TataNld_unsga3.pkl','rb') as f_TataNld:\n",
    "    res_TataNld = pickle.load(f_TataNld)\n",
    "with open('res_bc_Internode_unsga3.pkl','rb') as f_Internode:\n",
    "    res_Internode = pickle.load(f_Internode)\n",
    "with open('res_bc_Missouri_unsga3.pkl','rb') as f_Missouri:\n",
    "    res_Missouri = pickle.load(f_Missouri)\n",
    "with open('res_bc_Ion_unsga3.pkl','rb') as f_Ion:\n",
    "    res_Ion = pickle.load(f_Ion)\n",
    "with open('res_bc_Palmetto_unsga3.pkl','rb') as f_Palmetto:\n",
    "    res_Palmetto = pickle.load(f_Palmetto)"
   ]
  },
  {
   "cell_type": "code",
   "execution_count": 27,
   "id": "116921fb-1d91-4612-9876-69374c2df104",
   "metadata": {
    "execution": {
     "iopub.execute_input": "2024-03-28T13:12:31.320118Z",
     "iopub.status.busy": "2024-03-28T13:12:31.319287Z",
     "iopub.status.idle": "2024-03-28T13:12:31.326702Z",
     "shell.execute_reply": "2024-03-28T13:12:31.326152Z"
    }
   },
   "outputs": [
    {
     "name": "stdout",
     "output_type": "stream",
     "text": [
      "The amount of solutions (Cogent):  64\n",
      "The amount of solutions (UsCarrier):  76\n",
      "The amount of solutions (HiberniaGlobal):  33\n",
      "The amount of solutions (Colt):  73\n",
      "The amount of solutions (Funet):  42\n",
      "The amount of solutions (Abvt):  26\n",
      "The amount of solutions (Intellifiber):  53\n",
      "The amount of solutions (TataNld):  78\n",
      "The amount of solutions (Internode):  26\n",
      "The amount of solutions (Missouri):  57\n",
      "The amount of solutions (Ion):  71\n",
      "The amount of solutions (Palmetto):  34\n"
     ]
    }
   ],
   "source": [
    "F_Cogent = res_Cogent.F\n",
    "F_UsCarrier = res_UsCarrier.F\n",
    "F_HiberniaGlobal = res_HiberniaGlobal.F\n",
    "F_Colt = res_Colt.F\n",
    "F_Funet = res_Funet.F\n",
    "F_Abvt = res_Abvt.F\n",
    "F_Intellifiber = res_Intellifiber.F\n",
    "F_TataNld = res_TataNld.F\n",
    "F_Internode = res_Internode.F\n",
    "F_Missouri = res_Missouri.F\n",
    "F_Ion = res_Ion.F\n",
    "F_Palmetto = res_Palmetto.F\n",
    "\n",
    "print('The amount of solutions (Cogent): ', len(F_Cogent))\n",
    "print('The amount of solutions (UsCarrier): ', len(F_UsCarrier))\n",
    "print('The amount of solutions (HiberniaGlobal): ', len(F_HiberniaGlobal))\n",
    "print('The amount of solutions (Colt): ', len(F_Colt))\n",
    "print('The amount of solutions (Funet): ', len(F_Funet))\n",
    "print('The amount of solutions (Abvt): ', len(F_Abvt))\n",
    "print('The amount of solutions (Intellifiber): ', len(F_Intellifiber))\n",
    "print('The amount of solutions (TataNld): ', len(F_TataNld))\n",
    "print('The amount of solutions (Internode): ', len(F_Internode))\n",
    "print('The amount of solutions (Missouri): ', len(F_Missouri))\n",
    "print('The amount of solutions (Ion): ', len(F_Ion))\n",
    "print('The amount of solutions (Palmetto): ', len(F_Palmetto))"
   ]
  }
 ],
 "metadata": {
  "kernelspec": {
   "display_name": "Python 3 (ipykernel)",
   "language": "python",
   "name": "python3"
  },
  "language_info": {
   "codemirror_mode": {
    "name": "ipython",
    "version": 3
   },
   "file_extension": ".py",
   "mimetype": "text/x-python",
   "name": "python",
   "nbconvert_exporter": "python",
   "pygments_lexer": "ipython3",
   "version": "3.11.4"
  }
 },
 "nbformat": 4,
 "nbformat_minor": 5
}
