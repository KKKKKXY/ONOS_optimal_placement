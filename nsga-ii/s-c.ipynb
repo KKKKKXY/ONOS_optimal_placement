{
 "cells": [
  {
   "cell_type": "code",
   "execution_count": 11,
   "metadata": {},
   "outputs": [],
   "source": [
    "import numpy as np\n",
    "import matplotlib.pyplot as plt\n",
    "import functools"
   ]
  },
  {
   "cell_type": "code",
   "execution_count": 12,
   "metadata": {},
   "outputs": [
    {
     "name": "stdout",
     "output_type": "stream",
     "text": [
      "[([1, 'c1'], [2, 'c1'], [3, 'c1']), ([1, 'c1'], [2, 'c1'], [3, 'c2']), ([1, 'c1'], [2, 'c2'], [3, 'c1']), ([1, 'c1'], [2, 'c2'], [3, 'c2']), ([1, 'c2'], [2, 'c1'], [3, 'c1']), ([1, 'c2'], [2, 'c1'], [3, 'c2']), ([1, 'c2'], [2, 'c2'], [3, 'c1']), ([1, 'c2'], [2, 'c2'], [3, 'c2'])]\n",
      "8\n"
     ]
    }
   ],
   "source": [
    "import itertools\n",
    "\n",
    "onos_nodes = ['c1', 'c2']\n",
    "switch_nodes = [1, 2, 3]\n",
    "raw_connections_switch_to_controller = [[switch, onos] for switch in switch_nodes for onos in onos_nodes if switch != onos]\n",
    "\n",
    "connections_switch_to_controller = []\n",
    "\n",
    "for combination in itertools.combinations(raw_connections_switch_to_controller, len(switch_nodes)):\n",
    "    if len(set([item[0] for item in combination])) == len(switch_nodes):\n",
    "        connections_switch_to_controller.append(combination)\n",
    "\n",
    "print(connections_switch_to_controller)\n",
    "print(len(connections_switch_to_controller))"
   ]
  },
  {
   "cell_type": "code",
   "execution_count": 13,
   "metadata": {},
   "outputs": [
    {
     "name": "stdout",
     "output_type": "stream",
     "text": [
      "[[1, 2], [1, 3], [2, 1], [2, 3], [3, 1], [3, 2]]\n",
      "[[1, 2, 18], [1, 3, 34], [2, 1, 45], [2, 3, 33], [3, 1, 71], [3, 2, 71]]\n"
     ]
    }
   ],
   "source": [
    "import random\n",
    "\n",
    "switch_nodes = [1, 2, 3]\n",
    "raw_connections_switch_to_switch = [[node1, node2] for node1 in switch_nodes for node2 in switch_nodes if node1 != node2]\n",
    "print(raw_connections_switch_to_switch)\n",
    "\n",
    "delay_switch_to_switch = [[item[0], item[1], random.randint(1, 100)] for item in raw_connections_switch_to_switch]\n",
    "print(delay_switch_to_switch)"
   ]
  },
  {
   "cell_type": "code",
   "execution_count": 14,
   "metadata": {},
   "outputs": [
    {
     "name": "stdout",
     "output_type": "stream",
     "text": [
      "Shortest path from 1 to 2: ['1', '3', '2']\n"
     ]
    }
   ],
   "source": [
    "import heapq\n",
    "\n",
    "def dijkstra(graph, start, end):\n",
    "    # 初始化距离字典和优先队列\n",
    "    distances = {node: float('inf') for node in graph}\n",
    "    distances[start] = 0\n",
    "    priority_queue = [(0, start)]\n",
    "\n",
    "    # 初始化路径字典\n",
    "    previous_nodes = {node: None for node in graph}\n",
    "\n",
    "    while priority_queue:\n",
    "        # 从优先队列中获取当前距离最小的节点\n",
    "        current_distance, current_node = heapq.heappop(priority_queue)\n",
    "\n",
    "        # 如果当前距离大于已知最短距离，则跳过该节点\n",
    "        if current_distance > distances[current_node]:\n",
    "            continue\n",
    "\n",
    "        # 如果到达目标节点，则构建并返回最短路径\n",
    "        if current_node == end:\n",
    "            path = []\n",
    "            while current_node is not None:\n",
    "                path.append(current_node)\n",
    "                current_node = previous_nodes[current_node]\n",
    "            path.reverse()\n",
    "            return path\n",
    "\n",
    "        # 遍历当前节点的邻居节点\n",
    "        for neighbor, weight in graph[current_node].items():\n",
    "            distance = current_distance + weight\n",
    "\n",
    "            # 如果通过当前节点到达邻居节点的距离更短，则更新最短距离和路径\n",
    "            if distance < distances[neighbor]:\n",
    "                distances[neighbor] = distance\n",
    "                previous_nodes[neighbor] = current_node\n",
    "                heapq.heappush(priority_queue, (distance, neighbor))\n",
    "\n",
    "    # 如果无法到达目标节点，则返回空路径\n",
    "    return None\n",
    "\n",
    "# 示例使用\n",
    "# graph = [(1,3),(3,2)]\n",
    "# graph = {\n",
    "#     '1': {'3': 54, '4': 10},\n",
    "#     '2': {'3': 68, '4': 30},\n",
    "#     '3': {'1': 54, '2': 68},\n",
    "#     '4': {'1': 10, '2': 30}\n",
    "# }\n",
    "graph = {\n",
    "    '1': {'3': 54},\n",
    "    '2': {'3': 68},\n",
    "    '3': {'1': 54, '2': 68}\n",
    "}\n",
    "\n",
    "start_node = '1'\n",
    "end_node = '2'\n",
    "\n",
    "shortest_path = dijkstra(graph, start_node, end_node)\n",
    "if shortest_path is not None:\n",
    "    print(f\"Shortest path from {start_node} to {end_node}: {shortest_path}\")\n",
    "else:\n",
    "    print(f\"No path found from {start_node} to {end_node}\")\n",
    "\n",
    "# print(delay_switch_to_switch)\n",
    "# [[1, 2, 82], [1, 3, 54], [2, 1, 82], [2, 3, 68], [3, 1, 96], [3, 2, 48]]"
   ]
  },
  {
   "cell_type": "code",
   "execution_count": 74,
   "metadata": {},
   "outputs": [
    {
     "name": "stdout",
     "output_type": "stream",
     "text": [
      "[('c1', 3), ('c2', 2)]\n"
     ]
    }
   ],
   "source": [
    "import random\n",
    "\n",
    "# onos_nodes = ['c1', 'c2']\n",
    "# raw_connections_switch_to_switch = [[node1, node2] for node1 in switch_nodes for node2 in switch_nodes if node1 != node2]\n",
    "\n",
    "numbers = [number for number in switch_nodes]\n",
    "# print(numbers)\n",
    "\n",
    "placement = [(node, number) for node, number in zip(onos_nodes, random.sample(numbers, len(onos_nodes)))]\n",
    "print(placement)"
   ]
  },
  {
   "cell_type": "code",
   "execution_count": 301,
   "metadata": {},
   "outputs": [
    {
     "name": "stdout",
     "output_type": "stream",
     "text": [
      "[['c1', 1, 54], ['c1', 2, 68], ['c1', 3, 0], ['c2', 1, 122], ['c2', 2, 0], ['c2', 3, 68]]\n"
     ]
    }
   ],
   "source": [
    "import random\n",
    "\n",
    "graph = {\n",
    "    '1': {'3': 54},\n",
    "    '2': {'3': 68},\n",
    "    '3': {'1': 54, '2': 68}\n",
    "}\n",
    "\n",
    "convert_graph_to_array = [[int(source), int(target), weight] if target != '0' else [int(source), int(target), 0] for source, edges in graph.items() for target, weight in edges.items()]\n",
    "# print(convert_graph_to_array)\n",
    "# [[1, 3, 54], [2, 3, 68], [3, 1, 54], [3, 2, 68]]\n",
    "delay = []\n",
    "assign_delay = 0\n",
    "\n",
    "for onos in placement:\n",
    "    for switch in switch_nodes:\n",
    "        if onos[1] == switch:\n",
    "            delay.append([onos[0], switch, 0])\n",
    "        else:\n",
    "            for item in convert_graph_to_array:\n",
    "                if item[0] == switch and item[1] == onos[1]:\n",
    "                        delay.append([onos[0], switch, item[2]])\n",
    "                if item[0] == switch and item[1] != onos[1]:\n",
    "                    path = dijkstra(graph, str(onos[1]), str(item[0]))\n",
    "                    if len(path) > 2:\n",
    "                        for node_along_path in range(len(path)):\n",
    "                            slice_start = node_along_path\n",
    "                            slice_end = node_along_path + 2\n",
    "                            if slice_end > len(path):\n",
    "                                break\n",
    "                            else:\n",
    "                                pick_delay = [item[2] for item in convert_graph_to_array if [str(item[0]), str(item[1])] == path[slice_start:slice_end]]\n",
    "                                assign_delay += int(pick_delay[0])\n",
    "                        delay.append([onos[0], switch, assign_delay])\n",
    "print(delay)\n",
    "# delay = [('c1', 1, 54),('c1', 2, 68),('c1', 3, 0),('c2', 1, 122),('c2', 2, 0),('c2', 3, 68)]\n",
    "\n",
    "\n",
    "# switch_nodes = [1, 2, 3]\n",
    "# raw_connections_switch_to_switch = [[node1, node2] for node1 in switch_nodes for node2 in switch_nodes if node1 != node2]\n",
    "# [[1, 2], [1, 3], [2, 1], [2, 3], [3, 1], [3, 2]]\n",
    "\n",
    "# delay_switch_to_switch = [[item[0], item[1], random.randint(1, 100)] for item in raw_connections_switch_to_switch]\n",
    "# print(delay_switch_to_switch)\n",
    "# [[1, 2, 18], [1, 3, 34], [2, 1, 45], [2, 3, 33], [3, 1, 71], [3, 2, 71]]"
   ]
  },
  {
   "cell_type": "code",
   "execution_count": 177,
   "metadata": {},
   "outputs": [
    {
     "name": "stdout",
     "output_type": "stream",
     "text": [
      "122\n"
     ]
    }
   ],
   "source": [
    "path = ['1', '3', '2']\n",
    "convert_graph_to_array = [[1, 3, 54], [2, 3, 68], [3, 1, 54], [3, 2, 68]]\n",
    "\n",
    "result = []\n",
    "value = 0\n",
    "\n",
    "for item in range(len(path)):\n",
    "    slice_start = item\n",
    "    slice_end = item + 2\n",
    "    if slice_end > len(path):\n",
    "        break\n",
    "    else:\n",
    "        pick_delay = [item[2] for item in convert_graph_to_array if [str(item[0]), str(item[1])] == path[slice_start:slice_end]]\n",
    "        value += int(pick_delay[0])\n",
    "        \n",
    "print(value)"
   ]
  },
  {
   "cell_type": "code",
   "execution_count": 305,
   "metadata": {},
   "outputs": [
    {
     "name": "stdout",
     "output_type": "stream",
     "text": [
      "122\n",
      "488\n"
     ]
    }
   ],
   "source": [
    "# delay = [('c1', 1, 54),('c1', 2, 68),('c1', 3, 0),('c2', 1, 122),('c2', 2, 0),('c2', 3, 68)]\n",
    "# shortest_path = ['1', '3', '2']\n",
    "\n",
    "sum = 0\n",
    "for node_along_shortest_path in range(len(shortest_path)):\n",
    "    slice_start = node_along_shortest_path\n",
    "    slice_end = node_along_shortest_path + 2\n",
    "    if slice_end > len(shortest_path):\n",
    "        break\n",
    "    else:\n",
    "        pick_delay = [item[2] for item in convert_graph_to_array if [str(item[0]), str(item[1])] == shortest_path[slice_start:slice_end]]\n",
    "        sum += int(pick_delay[0])\n",
    "\n",
    "print(sum)\n",
    "fst = 4*sum\n",
    "\n",
    "print(fst)"
   ]
  }
 ],
 "metadata": {
  "kernelspec": {
   "display_name": "Python 3",
   "language": "python",
   "name": "python3"
  },
  "language_info": {
   "codemirror_mode": {
    "name": "ipython",
    "version": 3
   },
   "file_extension": ".py",
   "mimetype": "text/x-python",
   "name": "python",
   "nbconvert_exporter": "python",
   "pygments_lexer": "ipython3",
   "version": "3.11.4"
  },
  "orig_nbformat": 4
 },
 "nbformat": 4,
 "nbformat_minor": 2
}
